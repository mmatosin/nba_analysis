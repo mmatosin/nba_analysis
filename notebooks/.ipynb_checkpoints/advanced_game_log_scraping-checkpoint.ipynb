{
 "cells": [
  {
   "cell_type": "code",
   "execution_count": 1,
   "metadata": {},
   "outputs": [],
   "source": [
    "import os\n",
    "import pandas as pd\n",
    "import numpy as np"
   ]
  },
  {
   "cell_type": "code",
   "execution_count": null,
   "metadata": {},
   "outputs": [],
   "source": []
  },
  {
   "cell_type": "markdown",
   "metadata": {},
   "source": [
    "#### data directories"
   ]
  },
  {
   "cell_type": "code",
   "execution_count": 2,
   "metadata": {},
   "outputs": [],
   "source": [
    "currDir = os.getcwd()\n",
    "rootDir = os.path.abspath(os.path.join(currDir,'..'))\n",
    "\n",
    "dataDir = os.path.abspath(os.path.join(rootDir,'data'))\n",
    "rawDataDir = os.path.abspath(os.path.join(dataDir,'raw'))\n",
    "interimDataDir = os.path.abspath(os.path.join(dataDir,'interim'))\n",
    "finalDataDir = os.path.abspath(os.path.join(dataDir,'final'))\n",
    "\n",
    "advDataDir = os.path.abspath(os.path.join(dataDir,'advanced_stats'))\n",
    "errorLog = os.path.abspath(os.path.join(dataDir,'error_log'))\n"
   ]
  },
  {
   "cell_type": "code",
   "execution_count": null,
   "metadata": {},
   "outputs": [],
   "source": []
  },
  {
   "cell_type": "markdown",
   "metadata": {},
   "source": [
    "#### read player bio data"
   ]
  },
  {
   "cell_type": "code",
   "execution_count": 3,
   "metadata": {},
   "outputs": [
    {
     "name": "stdout",
     "output_type": "stream",
     "text": [
      "No of distinct players: 4800\n"
     ]
    }
   ],
   "source": [
    "file = f\"{rawDataDir}/all_NBA_ABA_players.csv\"\n",
    "df = pd.read_csv(file)\n",
    "\n",
    "print(\"No of distinct players:\",df['index'].nunique())"
   ]
  },
  {
   "cell_type": "code",
   "execution_count": 4,
   "metadata": {},
   "outputs": [
    {
     "data": {
      "text/html": [
       "<div>\n",
       "<style scoped>\n",
       "    .dataframe tbody tr th:only-of-type {\n",
       "        vertical-align: middle;\n",
       "    }\n",
       "\n",
       "    .dataframe tbody tr th {\n",
       "        vertical-align: top;\n",
       "    }\n",
       "\n",
       "    .dataframe thead th {\n",
       "        text-align: right;\n",
       "    }\n",
       "</style>\n",
       "<table border=\"1\" class=\"dataframe\">\n",
       "  <thead>\n",
       "    <tr style=\"text-align: right;\">\n",
       "      <th></th>\n",
       "      <th>index</th>\n",
       "      <th>Player</th>\n",
       "      <th>From</th>\n",
       "      <th>To</th>\n",
       "      <th>Pos</th>\n",
       "      <th>Ht</th>\n",
       "      <th>Wt</th>\n",
       "      <th>Birth Date</th>\n",
       "      <th>Colleges</th>\n",
       "    </tr>\n",
       "  </thead>\n",
       "  <tbody>\n",
       "    <tr>\n",
       "      <th>0</th>\n",
       "      <td>abdelal01</td>\n",
       "      <td>Alaa Abdelnaby</td>\n",
       "      <td>1991</td>\n",
       "      <td>1995</td>\n",
       "      <td>F-C</td>\n",
       "      <td>6-10</td>\n",
       "      <td>240.0</td>\n",
       "      <td>June 24, 1968</td>\n",
       "      <td>Duke</td>\n",
       "    </tr>\n",
       "    <tr>\n",
       "      <th>1</th>\n",
       "      <td>abdulza01</td>\n",
       "      <td>Zaid Abdul-Aziz</td>\n",
       "      <td>1969</td>\n",
       "      <td>1978</td>\n",
       "      <td>C-F</td>\n",
       "      <td>6-9</td>\n",
       "      <td>235.0</td>\n",
       "      <td>April 7, 1946</td>\n",
       "      <td>Iowa State</td>\n",
       "    </tr>\n",
       "    <tr>\n",
       "      <th>2</th>\n",
       "      <td>abdulka01</td>\n",
       "      <td>Kareem Abdul-Jabbar*</td>\n",
       "      <td>1970</td>\n",
       "      <td>1989</td>\n",
       "      <td>C</td>\n",
       "      <td>7-2</td>\n",
       "      <td>225.0</td>\n",
       "      <td>April 16, 1947</td>\n",
       "      <td>UCLA</td>\n",
       "    </tr>\n",
       "    <tr>\n",
       "      <th>3</th>\n",
       "      <td>abdulma02</td>\n",
       "      <td>Mahmoud Abdul-Rauf</td>\n",
       "      <td>1991</td>\n",
       "      <td>2001</td>\n",
       "      <td>G</td>\n",
       "      <td>6-1</td>\n",
       "      <td>162.0</td>\n",
       "      <td>March 9, 1969</td>\n",
       "      <td>LSU</td>\n",
       "    </tr>\n",
       "    <tr>\n",
       "      <th>4</th>\n",
       "      <td>abdulta01</td>\n",
       "      <td>Tariq Abdul-Wahad</td>\n",
       "      <td>1998</td>\n",
       "      <td>2003</td>\n",
       "      <td>F</td>\n",
       "      <td>6-6</td>\n",
       "      <td>223.0</td>\n",
       "      <td>November 3, 1974</td>\n",
       "      <td>Michigan, San Jose State</td>\n",
       "    </tr>\n",
       "  </tbody>\n",
       "</table>\n",
       "</div>"
      ],
      "text/plain": [
       "       index                Player  From    To  Pos    Ht     Wt  \\\n",
       "0  abdelal01        Alaa Abdelnaby  1991  1995  F-C  6-10  240.0   \n",
       "1  abdulza01       Zaid Abdul-Aziz  1969  1978  C-F   6-9  235.0   \n",
       "2  abdulka01  Kareem Abdul-Jabbar*  1970  1989    C   7-2  225.0   \n",
       "3  abdulma02    Mahmoud Abdul-Rauf  1991  2001    G   6-1  162.0   \n",
       "4  abdulta01     Tariq Abdul-Wahad  1998  2003    F   6-6  223.0   \n",
       "\n",
       "         Birth Date                  Colleges  \n",
       "0     June 24, 1968                      Duke  \n",
       "1     April 7, 1946                Iowa State  \n",
       "2    April 16, 1947                      UCLA  \n",
       "3     March 9, 1969                       LSU  \n",
       "4  November 3, 1974  Michigan, San Jose State  "
      ]
     },
     "execution_count": 4,
     "metadata": {},
     "output_type": "execute_result"
    }
   ],
   "source": [
    "df.head()"
   ]
  },
  {
   "cell_type": "code",
   "execution_count": null,
   "metadata": {},
   "outputs": [],
   "source": []
  },
  {
   "cell_type": "code",
   "execution_count": null,
   "metadata": {},
   "outputs": [],
   "source": []
  },
  {
   "cell_type": "markdown",
   "metadata": {},
   "source": [
    "#### scraping player game logs"
   ]
  },
  {
   "cell_type": "code",
   "execution_count": 5,
   "metadata": {},
   "outputs": [],
   "source": [
    "from urllib.request import urlopen\n",
    "from bs4 import BeautifulSoup\n",
    "\n",
    "#### BASIC STATS\n",
    "# https://www.basketball-reference.com/players/a/abdelal01.html\n",
    "# https://www.basketball-reference.com/players/a/abdelal01/gamelog/1992\n",
    "# https://www.basketball-reference.com/players/a/abdelal01/gamelog-playoffs/\n",
    "\n",
    "#### ADVANCED STATS\n",
    "# https://www.basketball-reference.com/players/a/abdelal01/gamelog-advanced/1992/\n",
    "# https://www.basketball-reference.com/players/a/abdelal01/gamelog-playoffs-advanced/"
   ]
  },
  {
   "cell_type": "code",
   "execution_count": null,
   "metadata": {},
   "outputs": [],
   "source": []
  },
  {
   "cell_type": "code",
   "execution_count": 6,
   "metadata": {},
   "outputs": [],
   "source": [
    "def get_reg_season_game_logs(player_idx,letter,from_year,to_year):\n",
    "    reg_season_game_logs = None\n",
    "    yearly_dfs = []\n",
    "    \n",
    "    # SCRAPING REGULAR SEASON GAMES\n",
    "    \n",
    "    for year in range(from_year, to_year+1):\n",
    "        #url = f\"https://www.basketball-reference.com/players/{letter}/{player_idx}/gamelog/{year}\"\n",
    "        url = f\"https://www.basketball-reference.com/players/{letter}/{player_idx}/gamelog-advanced/{year}/\"\n",
    "        webpage = urlopen(url)\n",
    "        html = BeautifulSoup(webpage)\n",
    "        tables = html.findAll('table')\n",
    "      \n",
    "        if len(tables)==0:\n",
    "            if year > 1976: continue\n",
    "            else:\n",
    "                aba_url = url + \"/aba/\"\n",
    "                webpage = urlopen(aba_url)\n",
    "                html = BeautifulSoup(webpage)\n",
    "                aba_tables = html.findAll('table')\n",
    "\n",
    "                if len(aba_tables)==0: continue\n",
    "                else: \n",
    "                    table = str(aba_tables[-1])\n",
    "                    yearly_game_log = pd.read_html(table)[0]\n",
    "                    yearly_game_log[\"PLAYOFF\"] = 'N'\n",
    "                    yearly_game_log[\"LEAGUE\"] = 'ABA'\n",
    "\n",
    "        else:\n",
    "            table = str(tables[-1])\n",
    "            yearly_game_log = pd.read_html(table)[0]\n",
    "            yearly_game_log[\"PLAYOFF\"] = 'N'\n",
    "            yearly_game_log[\"LEAGUE\"] = 'NBA'\n",
    "\n",
    "        yearly_dfs.append(yearly_game_log)        \n",
    "\n",
    "    reg_season_game_logs = pd.concat([x for x in yearly_dfs],ignore_index=True,sort=False)\n",
    "    reg_season_game_logs[\"PLAYOFF\"] = 'N'\n",
    "    reg_season_game_logs['SERIES'] = np.nan\n",
    "\n",
    "    reg_season_game_logs.rename(columns = {'Date': 'DATE', 'Age': 'AGE', 'Tm': 'TEAM', \n",
    "                                      'Unnamed: 5': 'HOME/AWAY', 'Opp': 'OPPONENT',\n",
    "                                      'Unnamed: 7': 'RESULT', 'GmSc': 'GAME_SCORE'}, inplace=True)  \n",
    "    \n",
    "    return reg_season_game_logs"
   ]
  },
  {
   "cell_type": "code",
   "execution_count": 7,
   "metadata": {},
   "outputs": [],
   "source": [
    "def get_playoff_game_logs(player_idx,letter):\n",
    "    \n",
    "    playoff_game_logs = None\n",
    "    \n",
    "    #playoff_url = f\"https://www.basketball-reference.com/players/{letter}/{player_idx}/gamelog-playoffs/\"\n",
    "    playoff_url = f\"https://www.basketball-reference.com/players/{letter}/{player_idx}/gamelog-playoffs-advanced/\"\n",
    "    webpage = urlopen(playoff_url)\n",
    "    html = BeautifulSoup(webpage)\n",
    "    tables = html.findAll('table')\n",
    "    \n",
    "    if len(tables) > 0:\n",
    "        table = str(html.findAll('table')[-1])\n",
    "        playoff_game_logs = pd.read_html(table)[0]\n",
    "        playoff_game_logs[\"PLAYOFF\"] = 'Y'\n",
    "        playoff_game_logs[\"AGE\"] = np.nan\n",
    "\n",
    "        playoff_game_logs.rename(columns = {'Date': 'DATE', 'Age': 'AGE', 'Tm': 'TEAM', 'Series':'SERIES',\n",
    "                                          'Unnamed: 5': 'HOME/AWAY', 'Opp': 'OPPONENT',playoff_game_logs.columns[2]:'DATE',\n",
    "                                          'Unnamed: 8': 'RESULT', 'GmSc': 'GAME_SCORE'}, inplace=True)\n",
    "    \n",
    "    return playoff_game_logs"
   ]
  },
  {
   "cell_type": "code",
   "execution_count": 8,
   "metadata": {},
   "outputs": [],
   "source": [
    "def get_career_game_logs(player_data,verbose=True):\n",
    "    \n",
    "    logger = f\"{errorLog}/log.txt\"\n",
    "    \n",
    "    # PLAYER DATA\n",
    "    player_idx = player_data['index']\n",
    "    letter = player_idx[0]\n",
    "    player_name = player_data['Player']\n",
    "    from_yr, to_yr = row[[\"From\",\"To\"]].values\n",
    "\n",
    "    if verbose:\n",
    "        print(player_idx,player_name)\n",
    "    \n",
    "    # GET REGULAR SEASON GAME LOGS\n",
    "    try:\n",
    "        reg_season_game_logs = get_reg_season_game_logs(player_idx,letter,from_yr,to_yr)\n",
    "    except:\n",
    "        reg_season_game_logs = None\n",
    "        with open(logger,\"a\") as logs: \n",
    "            logs.write(f\"{player_idx} , {player_name}, error in regular season game logs \\n\")\n",
    "\n",
    "    # GET PLAYOFF GAME LOGS\n",
    "    try:\n",
    "        playoff_game_logs = get_playoff_game_logs(player_idx,letter)\n",
    "    except:\n",
    "        playoff_game_logs = None\n",
    "        with open(logger,\"a\") as logs: \n",
    "            logs.write(f\"{player_idx} , {player_name}, error in playoff game logs \\n\")\n",
    "            \n",
    "        \n",
    "    try:  \n",
    "        # CONCATENATING REGULAR SEASON AND PLAYOFF GAMES\n",
    "        career_game_logs = pd.concat([reg_season_game_logs,playoff_game_logs],ignore_index=True,sort=False)\n",
    "        career_game_logs['HOME/AWAY'] = career_game_logs['HOME/AWAY'].apply(lambda x: 'AWAY' if x=='@' else 'HOME')\n",
    "\n",
    "        # FORMAT CAREER GAME LOGS, SORT BY DATE\n",
    "        career_game_logs['Rk'] = career_game_logs['Rk'].astype(str)\n",
    "        career_game_logs = career_game_logs[career_game_logs['Rk'].str.isnumeric().values]\n",
    "\n",
    "        career_game_logs.rename(columns = {'Series':'SERIES'},inplace=True)\n",
    "        career_game_logs['INDEX'] = player_idx\n",
    "        career_game_logs['NAME']  = player_name\n",
    "\n",
    "        career_game_logs.sort_values('DATE',inplace=True)\n",
    "        career_game_logs.reset_index(drop=True,inplace=True)\n",
    "\n",
    "    except:\n",
    "        career_game_logs = None\n",
    "        with open(logger,\"a\") as logs: \n",
    "            logs.write(f\"{player_idx} , {player_name}, no playoff OR regular season data \\n\")\n",
    "        \n",
    "    return career_game_logs"
   ]
  },
  {
   "cell_type": "code",
   "execution_count": null,
   "metadata": {},
   "outputs": [],
   "source": []
  },
  {
   "cell_type": "code",
   "execution_count": null,
   "metadata": {},
   "outputs": [
    {
     "name": "stdout",
     "output_type": "stream",
     "text": [
      "2000\n",
      "imhofda01 Darrall Imhoff\n",
      "(853, 23)\n",
      "2001\n",
      "ingelto01 Tom Ingelsby\n",
      "(75, 27)\n",
      "2002\n",
      "inglejo01 Joe Ingles\n",
      "(501, 30)\n",
      "2003\n",
      "inglida01 Damien Inglis\n",
      "(82, 29)\n",
      "2004\n",
      "ingraan01 Andre Ingram\n",
      "(7, 29)\n",
      "2005\n",
      "ingrabr01 Brandon Ingram\n",
      "(310, 29)\n",
      "2006\n",
      "ingramc01 McCoy Ingram\n",
      "(23, 22)\n",
      "2007\n",
      "inniger01 Ervin Inniger\n",
      "(109, 26)\n",
      "2008\n",
      "irvinby01 Byron Irvin\n",
      "(87, 30)\n",
      "2009\n",
      "df shape (2047, 30)\n",
      "irvinge01 George Irvine\n",
      "(350, 28)\n",
      "2010\n",
      "irvinky01 Kyrie Irving\n"
     ]
    }
   ],
   "source": [
    "k, w = 2000, 3000\n",
    "player_dfs = []\n",
    "for num,(index, row) in enumerate(df.iloc[k:w].iterrows()):\n",
    "    print(k + num)\n",
    "    \n",
    "    if (num + 1) % 10 == 0:\n",
    "        game_logs = pd.concat([player for player in player_dfs],ignore_index=True,sort=False)\n",
    "        game_logs.to_csv(f\"{advDataDir}/adv_game_logs.csv\",index=False)\n",
    "        print(\"df shape\",game_logs.shape)\n",
    "    \n",
    "    career_game_logs = get_career_game_logs(row)\n",
    "    player_dfs.append(career_game_logs)\n",
    "    \n",
    "    try:\n",
    "        print(career_game_logs.shape)\n",
    "    except:\n",
    "        print(\"both dfs are None\")\n",
    "    \n",
    "game_logs = pd.concat([player for player in player_dfs],ignore_index=True,sort=False)\n",
    "print(\"\\n\")\n",
    "print(game_logs.shape)\n",
    "\n",
    "game_logs.to_csv(f\"{advDataDir}/adv_game_logs - extract {k}-{w-1}.csv\"\n",
    "                 ,index=False)"
   ]
  },
  {
   "cell_type": "code",
   "execution_count": 22,
   "metadata": {},
   "outputs": [
    {
     "name": "stdout",
     "output_type": "stream",
     "text": [
      "(351913, 31)\n"
     ]
    }
   ],
   "source": [
    "print(game_logs.shape)"
   ]
  },
  {
   "cell_type": "code",
   "execution_count": null,
   "metadata": {},
   "outputs": [],
   "source": [
    "print(game_logs.shape)"
   ]
  },
  {
   "cell_type": "code",
   "execution_count": null,
   "metadata": {},
   "outputs": [],
   "source": [
    "game_logs.tail()"
   ]
  },
  {
   "cell_type": "code",
   "execution_count": null,
   "metadata": {},
   "outputs": [],
   "source": []
  },
  {
   "cell_type": "code",
   "execution_count": 16,
   "metadata": {},
   "outputs": [
    {
     "ename": "SyntaxError",
     "evalue": "invalid syntax (<ipython-input-16-4b37ef281455>, line 1)",
     "output_type": "error",
     "traceback": [
      "\u001b[0;36m  File \u001b[0;32m\"<ipython-input-16-4b37ef281455>\"\u001b[0;36m, line \u001b[0;32m1\u001b[0m\n\u001b[0;31m    |\u001b[0m\n\u001b[0m    ^\u001b[0m\n\u001b[0;31mSyntaxError\u001b[0m\u001b[0;31m:\u001b[0m invalid syntax\n"
     ]
    }
   ],
   "source": [
    "|"
   ]
  },
  {
   "cell_type": "code",
   "execution_count": null,
   "metadata": {},
   "outputs": [],
   "source": [
    "playoff_game_logs = None\n",
    "\n",
    "row = df.iloc[0]\n",
    "\n",
    "player_idx = row['index']\n",
    "letter = player_idx[0]\n",
    "player_name = row['Player']\n",
    "print(letter,player_idx,player_name)\n",
    "\n",
    "from_yr, to_yr = row[[\"From\",\"To\"]].values\n",
    "\n",
    "#playoff_url = f\"https://www.basketball-reference.com/players/{letter}/{player_idx}/gamelog-playoffs/\"\n",
    "playoff_url = f\"https://www.basketball-reference.com/players/{letter}/{player_idx}/gamelog-playoffs-advanced/\"\n",
    "webpage = urlopen(playoff_url)\n",
    "html = BeautifulSoup(webpage)\n",
    "tables = html.findAll('table')\n",
    "\n",
    "if len(tables) > 0:\n",
    "    table = str(html.findAll('table')[-1])\n",
    "    playoff_game_logs = pd.read_html(table)[0]\n",
    "    playoff_game_logs[\"PLAYOFF\"] = 'Y'"
   ]
  },
  {
   "cell_type": "code",
   "execution_count": null,
   "metadata": {},
   "outputs": [],
   "source": [
    "playoff_game_logs"
   ]
  },
  {
   "cell_type": "code",
   "execution_count": null,
   "metadata": {},
   "outputs": [],
   "source": []
  }
 ],
 "metadata": {
  "kernelspec": {
   "display_name": "nba_env",
   "language": "python",
   "name": "nba_env"
  },
  "language_info": {
   "codemirror_mode": {
    "name": "ipython",
    "version": 3
   },
   "file_extension": ".py",
   "mimetype": "text/x-python",
   "name": "python",
   "nbconvert_exporter": "python",
   "pygments_lexer": "ipython3",
   "version": "3.6.3"
  }
 },
 "nbformat": 4,
 "nbformat_minor": 4
}

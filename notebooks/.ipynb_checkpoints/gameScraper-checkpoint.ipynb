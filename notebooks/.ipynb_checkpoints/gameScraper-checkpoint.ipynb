{
 "cells": [
  {
   "cell_type": "code",
   "execution_count": 1,
   "metadata": {},
   "outputs": [],
   "source": [
    "import os\n",
    "import pandas as pd\n",
    "import numpy as np"
   ]
  },
  {
   "cell_type": "code",
   "execution_count": null,
   "metadata": {},
   "outputs": [],
   "source": []
  },
  {
   "cell_type": "markdown",
   "metadata": {},
   "source": [
    "##### Data Directories"
   ]
  },
  {
   "cell_type": "code",
   "execution_count": 2,
   "metadata": {},
   "outputs": [],
   "source": [
    "currDir = os.getcwd()\n",
    "rootDir = os.path.abspath(os.path.join(currDir,'..'))\n",
    "\n",
    "dataDir = os.path.abspath(os.path.join(rootDir,'data'))\n",
    "rawDataDir = os.path.abspath(os.path.join(dataDir,'raw'))\n",
    "interimDataDir = os.path.abspath(os.path.join(dataDir,'interim'))\n",
    "\n",
    "finalDataDir = os.path.abspath(os.path.join(dataDir,'final'))\n",
    "errorLog = os.path.abspath(os.path.join(dataDir,'error_log'))"
   ]
  },
  {
   "cell_type": "code",
   "execution_count": null,
   "metadata": {},
   "outputs": [],
   "source": []
  },
  {
   "cell_type": "code",
   "execution_count": null,
   "metadata": {},
   "outputs": [],
   "source": []
  },
  {
   "cell_type": "markdown",
   "metadata": {},
   "source": [
    "##### Scraping Functions"
   ]
  },
  {
   "cell_type": "code",
   "execution_count": 3,
   "metadata": {},
   "outputs": [],
   "source": [
    "from urllib.request import urlopen\n",
    "from bs4 import BeautifulSoup\n",
    "from datetime import datetime\n",
    "\n",
    "#### BASIC STATS\n",
    "# https://www.basketball-reference.com/players/a/abdelal01.html\n",
    "# https://www.basketball-reference.com/players/a/abdelal01/gamelog/1992\n",
    "# https://www.basketball-reference.com/players/a/abdelal01/gamelog-playoffs/\n",
    "\n",
    "#### ADVANCED STATS\n",
    "# https://www.basketball-reference.com/players/a/abdelal01/gamelog-advanced/1992/\n",
    "# https://www.basketball-reference.com/players/a/abdelal01/gamelog-playoffs-advanced/\n",
    "\n",
    "##### PLAYOFF URLs\n",
    "# f\"https://www.basketball-reference.com/players/{letter}/{player_idx}/gamelog-playoffs/\"\n",
    "# f\"https://www.basketball-reference.com/players/{letter}/{player_idx}/gamelog-playoffs-advanced/\""
   ]
  },
  {
   "cell_type": "code",
   "execution_count": 4,
   "metadata": {},
   "outputs": [
    {
     "data": {
      "text/plain": [
       "\"\\n1. Identify player to be scraped\\n2. Identify active years of players career \\n3. scrape regular season logs\\n4. scrape playoff logs\\n5. handle errors gracefully\\n\\nDon't forget to handle ABA players and to scrape regular \\nAND advanced game logs\\n\""
      ]
     },
     "execution_count": 4,
     "metadata": {},
     "output_type": "execute_result"
    }
   ],
   "source": [
    "'''\n",
    "1. Identify player to be scraped\n",
    "2. Identify active years of players career \n",
    "3. scrape regular season logs\n",
    "4. scrape playoff logs\n",
    "5. handle errors gracefully\n",
    "\n",
    "Don't forget to handle ABA players and to scrape regular \n",
    "AND advanced game logs\n",
    "'''"
   ]
  },
  {
   "cell_type": "code",
   "execution_count": 5,
   "metadata": {},
   "outputs": [],
   "source": [
    "def scrapeURL(URL: str):\n",
    "    '''scapes a generic basketball reference URL. Returns a pandas DataFrame\n",
    "    '''\n",
    "    webpage = urlopen(URL)\n",
    "    html = BeautifulSoup(webpage)\n",
    "    tables = html.findAll('table')\n",
    "    \n",
    "    if not tables:\n",
    "        # return empty dataframe\n",
    "        return pd.Series([])\n",
    "    \n",
    "    scrapedData = str(tables[-1])\n",
    "    gamelogs = pd.read_html(scrapedData)[0]\n",
    "    \n",
    "    return gamelogs"
   ]
  },
  {
   "cell_type": "code",
   "execution_count": 6,
   "metadata": {},
   "outputs": [],
   "source": [
    "def scrapeRegularSeason(URL: str, year: int, isNBA=True):\n",
    "    ''' scapes the regular season game logs of a given NBA or ABA player for a given year\n",
    "    '''\n",
    "    gamelogs = scrapeURL(URL)\n",
    "    \n",
    "    if not gamelogs.empty:\n",
    "        gamelogs.dropna(axis=0, how=\"all\", inplace=True)\n",
    "        \n",
    "        gamelogs[\"PLAYOFF\"] = 'N'\n",
    "        \n",
    "        if isNBA:\n",
    "            gamelogs[\"LEAGUE\"] = 'NBA'\n",
    "        else:\n",
    "            gamelogs[\"LEAGUE\"] = 'ABA'\n",
    "            \n",
    "        # drop redundant header rows    \n",
    "        gamelogs = gamelogs[gamelogs[\"Date\"] != \"Date\"]\n",
    "        gamelogs.reset_index(drop=True,inplace=True)\n",
    "        \n",
    "    # scrape ABA data if tables is empty and year is 1976 or earlier\n",
    "    if gamelogs.empty and isNBA and year <= 1976:\n",
    "        return scrapeRegularSeason(URL + \"/aba/\", year, isNBA=False)\n",
    "    \n",
    "    if gamelogs.empty:\n",
    "        errorLogger(URL + \", failed to scrape regular season data\")\n",
    "        \n",
    "    return gamelogs"
   ]
  },
  {
   "cell_type": "code",
   "execution_count": 7,
   "metadata": {},
   "outputs": [],
   "source": [
    "def scrapePlayoffs(URL: str):\n",
    "    ''' scapes playoff gamelogs for a given player\n",
    "        playoffs game logs are not grouped by year and both NBA & ABA\n",
    "        games are listed\n",
    "    '''\n",
    "    playoffGamelogs = scrapeURL(URL)\n",
    "    \n",
    "    if not playoffGamelogs.empty:\n",
    "        playoffGamelogs.dropna(axis=0, how=\"all\", inplace=True)\n",
    "        \n",
    "        playoffGamelogs[\"PLAYOFF\"] = 'Y'\n",
    "        #playoffGamelogs[\"AGE\"] = np.nan\n",
    "\n",
    "        # rename columns\n",
    "        ### TO DO: improve how playoff columns are renamed\n",
    "        playoffGamelogs.rename(columns = {'Date': 'DATE', 'Age': 'AGE', 'Tm': 'TEAM', 'Series':'SERIES',\n",
    "                                          'Unnamed: 5': 'HOME/AWAY', 'Opp': 'OPPONENT'\n",
    "                                          ,playoffGamelogs.columns[2]:'DATE',\n",
    "                                          'Unnamed: 8': 'RESULT', 'GmSc': 'GAME_SCORE'}\n",
    "                               , inplace=True)\n",
    "        \n",
    "        # drop redundant headers\n",
    "        playoffGamelogs = playoffGamelogs[playoffGamelogs[\"OPPONENT\"] != \"Opp\"]\n",
    "        playoffGamelogs.reset_index(drop=True,inplace=True)\n",
    "        \n",
    "    else:\n",
    "        errorLogger(URL + \", failed to scrape playoff data\")\n",
    "        \n",
    "    return playoffGamelogs"
   ]
  },
  {
   "cell_type": "code",
   "execution_count": 8,
   "metadata": {},
   "outputs": [],
   "source": [
    "def errorLogger(message: str, directory=errorLog):\n",
    "    logger = f\"{directory}/errorlog.txt\"\n",
    "    time = datetime.now().strftime(\"%m/%d/%Y %H:%M:%S\")\n",
    "\n",
    "    with open(logger,\"a\") as logs: \n",
    "        line = time + \",\" + message + \", \\n\"\n",
    "        logs.write(line)\n",
    "    "
   ]
  },
  {
   "cell_type": "code",
   "execution_count": 9,
   "metadata": {},
   "outputs": [],
   "source": [
    "def merge(left: pd.DataFrame, right: pd.DataFrame, joinCols: list):\n",
    "    '''helper function that merges two dataframes and drops duplicated columns'''\n",
    "    \n",
    "    df = pd.merge(left, right, how=\"outer\", on=joinCols, suffixes=(\"\",\"_dup\"))\n",
    "    keepCols = [col for col in df.columns if \"_dup\" not in col]\n",
    "    df = df[keepCols]\n",
    "    \n",
    "    return df\n",
    "    "
   ]
  },
  {
   "cell_type": "code",
   "execution_count": 46,
   "metadata": {},
   "outputs": [],
   "source": [
    "def scrapePlayerGamelogs(playerIdx: str, playerURL: str, years: tuple):\n",
    "    ''' scrapes the complete career (reg. season + playoffs) NBA + ABA gamelogs of a given player\n",
    "        results include basic and advanced states for all regular season + playoff games\n",
    "    '''\n",
    "    basicPrev, advPrev = pd.Series([]), pd.Series([])\n",
    "    start, end = years\n",
    "    \n",
    "    baseURL = 'https://www.basketball-reference.com'\n",
    "    playerURL = playerURL.strip('.html')\n",
    "    URL = baseURL + playerURL \n",
    "    \n",
    "    playoffsURL = \"/gamelog-playoffs/\"\n",
    "    playoffsAdvURL = \"/gamelog-playoffs-advanced/\"\n",
    "    \n",
    "    for year in range(start, end + 1):\n",
    "        # get regular season data (reg. season data is displayed by year)\n",
    "        basicURL = f'/gamelog/{year}'\n",
    "        advancedURL = f'/gamelog-advanced/{year}' \n",
    "        \n",
    "        # regular season data\n",
    "        basicRegularSeason = scrapeRegularSeason(URL + basicURL, year)\n",
    "        advancedRegularSeason = scrapeRegularSeason(URL + advancedURL, year)\n",
    "        \n",
    "        # df = pd.concat([prev,basicRegularSeason, advancedRegularSeason],ignore_index=True,sort=False)\n",
    "        basicReg = pd.concat([basicPrev,basicRegularSeason], ignore_index=True, sort=False)\n",
    "        advReg = pd.concat([advPrev,advancedRegularSeason], ignore_index=True, sort=False)\n",
    "        \n",
    "        basicPrev, advPrev = basicReg, advReg\n",
    "    \n",
    "    # merge basic + advanced regular season logs. Drop duplicated columns\n",
    "    regSeason = merge(basicReg, advReg, [\"Date\",\"Tm\",\"Opp\"])\n",
    "    \n",
    "    # playoff data (NOTE: playoffs are NOT shown by year on Bball ref)\n",
    "    basicPlayoffs = scrapePlayoffs(URL + playoffsURL)\n",
    "    advancedPlayoffs = scrapePlayoffs(URL + playoffsAdvURL)\n",
    "    \n",
    "    # merge basic + advanced playoff season logs. Drop duplicated columns\n",
    "    playoffs = merge(basicPlayoffs, advancedPlayoffs, [\"DATE\",\"TEAM\",\"OPPONENT\"])\n",
    "                       \n",
    "    df = pd.concat([regSeason,playoffs], ignore_index=True, sort=False)\n",
    "    df[\"ID\"] = playerIdx\n",
    "    \n",
    "    return df"
   ]
  },
  {
   "cell_type": "code",
   "execution_count": null,
   "metadata": {},
   "outputs": [],
   "source": []
  },
  {
   "cell_type": "markdown",
   "metadata": {},
   "source": [
    "##### Testing"
   ]
  },
  {
   "cell_type": "code",
   "execution_count": 11,
   "metadata": {},
   "outputs": [
    {
     "name": "stdout",
     "output_type": "stream",
     "text": [
      "(4803, 12)\n"
     ]
    }
   ],
   "source": [
    "##### read player bios\n",
    "\n",
    "file = f\"{rawDataDir}/consolidatedBioData.csv\"\n",
    "bio = pd.read_csv(file)\n",
    "\n",
    "print(bio.shape)"
   ]
  },
  {
   "cell_type": "code",
   "execution_count": 29,
   "metadata": {},
   "outputs": [
    {
     "data": {
      "text/html": [
       "<div>\n",
       "<style scoped>\n",
       "    .dataframe tbody tr th:only-of-type {\n",
       "        vertical-align: middle;\n",
       "    }\n",
       "\n",
       "    .dataframe tbody tr th {\n",
       "        vertical-align: top;\n",
       "    }\n",
       "\n",
       "    .dataframe thead th {\n",
       "        text-align: right;\n",
       "    }\n",
       "</style>\n",
       "<table border=\"1\" class=\"dataframe\">\n",
       "  <thead>\n",
       "    <tr style=\"text-align: right;\">\n",
       "      <th></th>\n",
       "      <th>ID</th>\n",
       "      <th>Player</th>\n",
       "      <th>From</th>\n",
       "      <th>To</th>\n",
       "      <th>Pos</th>\n",
       "      <th>Ht</th>\n",
       "      <th>Ht (cm)</th>\n",
       "      <th>Wt</th>\n",
       "      <th>Birth Date</th>\n",
       "      <th>Colleges</th>\n",
       "      <th>HOF</th>\n",
       "      <th>URL</th>\n",
       "    </tr>\n",
       "  </thead>\n",
       "  <tbody>\n",
       "    <tr>\n",
       "      <th>0</th>\n",
       "      <td>abdelal01</td>\n",
       "      <td>Alaa Abdelnaby</td>\n",
       "      <td>1991</td>\n",
       "      <td>1995</td>\n",
       "      <td>F-C</td>\n",
       "      <td>6-10</td>\n",
       "      <td>208.28</td>\n",
       "      <td>240.0</td>\n",
       "      <td>June 24, 1968</td>\n",
       "      <td>Duke</td>\n",
       "      <td>N</td>\n",
       "      <td>/players/a/abdelal01.html</td>\n",
       "    </tr>\n",
       "  </tbody>\n",
       "</table>\n",
       "</div>"
      ],
      "text/plain": [
       "          ID          Player  From    To  Pos    Ht  Ht (cm)     Wt  \\\n",
       "0  abdelal01  Alaa Abdelnaby  1991  1995  F-C  6-10   208.28  240.0   \n",
       "\n",
       "      Birth Date Colleges HOF                        URL  \n",
       "0  June 24, 1968     Duke   N  /players/a/abdelal01.html  "
      ]
     },
     "execution_count": 29,
     "metadata": {},
     "output_type": "execute_result"
    }
   ],
   "source": [
    "bio[bio['ID']=='abdelal01']\n",
    "#bio[bio[\"ID\"]==\"ervinju01\"]"
   ]
  },
  {
   "cell_type": "code",
   "execution_count": 30,
   "metadata": {},
   "outputs": [
    {
     "data": {
      "text/html": [
       "<div>\n",
       "<style scoped>\n",
       "    .dataframe tbody tr th:only-of-type {\n",
       "        vertical-align: middle;\n",
       "    }\n",
       "\n",
       "    .dataframe tbody tr th {\n",
       "        vertical-align: top;\n",
       "    }\n",
       "\n",
       "    .dataframe thead th {\n",
       "        text-align: right;\n",
       "    }\n",
       "</style>\n",
       "<table border=\"1\" class=\"dataframe\">\n",
       "  <thead>\n",
       "    <tr style=\"text-align: right;\">\n",
       "      <th></th>\n",
       "      <th>ID</th>\n",
       "      <th>Player</th>\n",
       "      <th>From</th>\n",
       "      <th>To</th>\n",
       "      <th>Pos</th>\n",
       "      <th>Ht</th>\n",
       "      <th>Ht (cm)</th>\n",
       "      <th>Wt</th>\n",
       "      <th>Birth Date</th>\n",
       "      <th>Colleges</th>\n",
       "      <th>HOF</th>\n",
       "      <th>URL</th>\n",
       "    </tr>\n",
       "  </thead>\n",
       "  <tbody>\n",
       "    <tr>\n",
       "      <th>0</th>\n",
       "      <td>abdelal01</td>\n",
       "      <td>Alaa Abdelnaby</td>\n",
       "      <td>1991</td>\n",
       "      <td>1995</td>\n",
       "      <td>F-C</td>\n",
       "      <td>6-10</td>\n",
       "      <td>208.28</td>\n",
       "      <td>240.0</td>\n",
       "      <td>June 24, 1968</td>\n",
       "      <td>Duke</td>\n",
       "      <td>N</td>\n",
       "      <td>/players/a/abdelal01.html</td>\n",
       "    </tr>\n",
       "    <tr>\n",
       "      <th>1</th>\n",
       "      <td>abdulza01</td>\n",
       "      <td>Zaid Abdul-Aziz</td>\n",
       "      <td>1969</td>\n",
       "      <td>1978</td>\n",
       "      <td>C-F</td>\n",
       "      <td>6-9</td>\n",
       "      <td>205.74</td>\n",
       "      <td>235.0</td>\n",
       "      <td>April 7, 1946</td>\n",
       "      <td>Iowa State</td>\n",
       "      <td>N</td>\n",
       "      <td>/players/a/abdulza01.html</td>\n",
       "    </tr>\n",
       "    <tr>\n",
       "      <th>2</th>\n",
       "      <td>abdulka01</td>\n",
       "      <td>Kareem Abdul-Jabbar*</td>\n",
       "      <td>1970</td>\n",
       "      <td>1989</td>\n",
       "      <td>C</td>\n",
       "      <td>7-2</td>\n",
       "      <td>218.44</td>\n",
       "      <td>225.0</td>\n",
       "      <td>April 16, 1947</td>\n",
       "      <td>UCLA</td>\n",
       "      <td>Y</td>\n",
       "      <td>/players/a/abdulka01.html</td>\n",
       "    </tr>\n",
       "    <tr>\n",
       "      <th>3</th>\n",
       "      <td>abdulma02</td>\n",
       "      <td>Mahmoud Abdul-Rauf</td>\n",
       "      <td>1991</td>\n",
       "      <td>2001</td>\n",
       "      <td>G</td>\n",
       "      <td>6-1</td>\n",
       "      <td>185.42</td>\n",
       "      <td>162.0</td>\n",
       "      <td>March 9, 1969</td>\n",
       "      <td>LSU</td>\n",
       "      <td>N</td>\n",
       "      <td>/players/a/abdulma02.html</td>\n",
       "    </tr>\n",
       "    <tr>\n",
       "      <th>4</th>\n",
       "      <td>abdulta01</td>\n",
       "      <td>Tariq Abdul-Wahad</td>\n",
       "      <td>1998</td>\n",
       "      <td>2003</td>\n",
       "      <td>F</td>\n",
       "      <td>6-6</td>\n",
       "      <td>198.12</td>\n",
       "      <td>223.0</td>\n",
       "      <td>November 3, 1974</td>\n",
       "      <td>Michigan, San Jose State</td>\n",
       "      <td>N</td>\n",
       "      <td>/players/a/abdulta01.html</td>\n",
       "    </tr>\n",
       "  </tbody>\n",
       "</table>\n",
       "</div>"
      ],
      "text/plain": [
       "          ID                Player  From    To  Pos    Ht  Ht (cm)     Wt  \\\n",
       "0  abdelal01        Alaa Abdelnaby  1991  1995  F-C  6-10   208.28  240.0   \n",
       "1  abdulza01       Zaid Abdul-Aziz  1969  1978  C-F   6-9   205.74  235.0   \n",
       "2  abdulka01  Kareem Abdul-Jabbar*  1970  1989    C   7-2   218.44  225.0   \n",
       "3  abdulma02    Mahmoud Abdul-Rauf  1991  2001    G   6-1   185.42  162.0   \n",
       "4  abdulta01     Tariq Abdul-Wahad  1998  2003    F   6-6   198.12  223.0   \n",
       "\n",
       "         Birth Date                  Colleges HOF                        URL  \n",
       "0     June 24, 1968                      Duke   N  /players/a/abdelal01.html  \n",
       "1     April 7, 1946                Iowa State   N  /players/a/abdulza01.html  \n",
       "2    April 16, 1947                      UCLA   Y  /players/a/abdulka01.html  \n",
       "3     March 9, 1969                       LSU   N  /players/a/abdulma02.html  \n",
       "4  November 3, 1974  Michigan, San Jose State   N  /players/a/abdulta01.html  "
      ]
     },
     "execution_count": 30,
     "metadata": {},
     "output_type": "execute_result"
    }
   ],
   "source": [
    "bio.head()"
   ]
  },
  {
   "cell_type": "code",
   "execution_count": 47,
   "metadata": {},
   "outputs": [],
   "source": [
    "idx = \"abdelal01\"\n",
    "playerURL = \"/players/a/abdelal01.html\"\n",
    "yrs = (1991,1995)\n",
    "\n",
    "'''\n",
    "idx = \"ervinju01\"\n",
    "playerURL = \"/players/e/ervinju01.html\"\n",
    "yrs = (1972,1987)\n",
    "'''\n",
    "idx = \"abdulma02\"\n",
    "playerURL = \"/players/a/abdulma02.html\"\n",
    "yrs = (1991,2001)\n"
   ]
  },
  {
   "cell_type": "code",
   "execution_count": 48,
   "metadata": {},
   "outputs": [
    {
     "name": "stdout",
     "output_type": "stream",
     "text": [
      "no. of games: (663, 55)\n"
     ]
    },
    {
     "data": {
      "text/plain": [
       "'\\nlocation = rawDataDir + \"/testPlayer.csv\"\\ndf.to_csv(location,index=False)\\n'"
      ]
     },
     "execution_count": 48,
     "metadata": {},
     "output_type": "execute_result"
    }
   ],
   "source": [
    "df = scrapePlayerGamelogs(idx,playerURL,yrs)\n",
    "\n",
    "print(\"no. of games:\",df.shape)\n",
    "'''\n",
    "location = rawDataDir + \"/testPlayer.csv\"\n",
    "df.to_csv(location,index=False)\n",
    "'''"
   ]
  },
  {
   "cell_type": "code",
   "execution_count": 50,
   "metadata": {},
   "outputs": [
    {
     "data": {
      "text/plain": [
       "N    648\n",
       "Y     15\n",
       "Name: PLAYOFF, dtype: int64"
      ]
     },
     "execution_count": 50,
     "metadata": {},
     "output_type": "execute_result"
    }
   ],
   "source": [
    "df[\"PLAYOFF\"].value_counts()"
   ]
  },
  {
   "cell_type": "code",
   "execution_count": 52,
   "metadata": {},
   "outputs": [
    {
     "data": {
      "text/plain": [
       "abdulma02    663\n",
       "Name: ID, dtype: int64"
      ]
     },
     "execution_count": 52,
     "metadata": {},
     "output_type": "execute_result"
    }
   ],
   "source": [
    "df['ID'].value_counts()"
   ]
  },
  {
   "cell_type": "code",
   "execution_count": 43,
   "metadata": {},
   "outputs": [
    {
     "data": {
      "text/plain": [
       "(648, 54)"
      ]
     },
     "execution_count": 43,
     "metadata": {},
     "output_type": "execute_result"
    }
   ],
   "source": [
    "df[df[\"PLAYOFF\"]==\"N\"].shape"
   ]
  },
  {
   "cell_type": "code",
   "execution_count": 45,
   "metadata": {},
   "outputs": [
    {
     "name": "stdout",
     "output_type": "stream",
     "text": [
      "<class 'pandas.core.frame.DataFrame'>\n",
      "RangeIndex: 663 entries, 0 to 662\n",
      "Data columns (total 54 columns):\n",
      "0             0 non-null float64\n",
      "3P            663 non-null object\n",
      "3P%           520 non-null object\n",
      "3PA           663 non-null object\n",
      "AST           663 non-null object\n",
      "Age           648 non-null object\n",
      "BLK           663 non-null object\n",
      "DRB           663 non-null object\n",
      "Date          648 non-null object\n",
      "FG            663 non-null object\n",
      "FG%           661 non-null object\n",
      "FGA           663 non-null object\n",
      "FT            663 non-null object\n",
      "FT%           445 non-null object\n",
      "FTA           663 non-null object\n",
      "G             601 non-null object\n",
      "GS            663 non-null object\n",
      "GmSc          648 non-null object\n",
      "LEAGUE        648 non-null object\n",
      "MP            663 non-null object\n",
      "ORB           663 non-null object\n",
      "Opp           648 non-null object\n",
      "PF            663 non-null object\n",
      "PLAYOFF       663 non-null object\n",
      "PTS           663 non-null object\n",
      "Rk            663 non-null object\n",
      "STL           663 non-null object\n",
      "TOV           663 non-null object\n",
      "TRB           663 non-null object\n",
      "Tm            648 non-null object\n",
      "Unnamed: 5    330 non-null object\n",
      "Unnamed: 7    648 non-null object\n",
      "+/-           75 non-null object\n",
      "AST%          663 non-null object\n",
      "BLK%          663 non-null object\n",
      "BPM           648 non-null object\n",
      "DRB%          663 non-null object\n",
      "DRtg          663 non-null object\n",
      "ORB%          663 non-null object\n",
      "ORtg          663 non-null object\n",
      "STL%          663 non-null object\n",
      "TOV%          663 non-null object\n",
      "TRB%          663 non-null object\n",
      "TS%           662 non-null object\n",
      "USG%          663 non-null object\n",
      "eFG%          661 non-null object\n",
      "DATE          15 non-null object\n",
      "SERIES        15 non-null object\n",
      "TEAM          15 non-null object\n",
      "HOME/AWAY     9 non-null object\n",
      "OPPONENT      15 non-null object\n",
      "G#            15 non-null object\n",
      "RESULT        15 non-null object\n",
      "GAME_SCORE    15 non-null object\n",
      "dtypes: float64(1), object(53)\n",
      "memory usage: 279.8+ KB\n"
     ]
    }
   ],
   "source": [
    "df.info()"
   ]
  },
  {
   "cell_type": "code",
   "execution_count": 15,
   "metadata": {},
   "outputs": [
    {
     "ename": "SyntaxError",
     "evalue": "invalid syntax (<ipython-input-15-4b37ef281455>, line 1)",
     "output_type": "error",
     "traceback": [
      "\u001b[1;36m  File \u001b[1;32m\"<ipython-input-15-4b37ef281455>\"\u001b[1;36m, line \u001b[1;32m1\u001b[0m\n\u001b[1;33m    |\u001b[0m\n\u001b[1;37m    ^\u001b[0m\n\u001b[1;31mSyntaxError\u001b[0m\u001b[1;31m:\u001b[0m invalid syntax\n"
     ]
    }
   ],
   "source": [
    "|"
   ]
  },
  {
   "cell_type": "code",
   "execution_count": null,
   "metadata": {},
   "outputs": [],
   "source": [
    "baseURL = 'https://www.basketball-reference.com'\n",
    "playerURL = playerURL.strip('.html')\n",
    "URL = baseURL + playerURL \n",
    "year = yrs[0]\n",
    "    \n",
    "playoffsURL = \"/gamelog-playoffs/\"\n",
    "playoffsAdvURL = \"/gamelog-playoffs-advanced/\"\n",
    "    \n",
    "# get regular season data (reg. season data is displayed by year)\n",
    "basicURL = f'/gamelog/{year}'\n",
    "advancedURL = f'/gamelog-advanced/{year}' "
   ]
  },
  {
   "cell_type": "code",
   "execution_count": null,
   "metadata": {},
   "outputs": [],
   "source": [
    "URL + playoffsAdvURL"
   ]
  },
  {
   "cell_type": "code",
   "execution_count": null,
   "metadata": {},
   "outputs": [],
   "source": [
    "# playoff data (NOTE: playoffs are NOT displayed by year)\n",
    "basic = scrapePlayoffs(URL + playoffsURL)\n",
    "adv = scrapePlayoffs(URL + playoffsAdvURL)\n",
    "\n",
    "'''\n",
    "# regular season data\n",
    "basic = scrapeRegularSeason(URL + basicURL, year)\n",
    "adv = scrapeRegularSeason(URL + advancedURL, year)\n",
    "'''\n",
    "\n",
    "print(basic.shape)\n",
    "print(adv.shape)"
   ]
  },
  {
   "cell_type": "code",
   "execution_count": null,
   "metadata": {},
   "outputs": [],
   "source": [
    "basic.head()"
   ]
  },
  {
   "cell_type": "code",
   "execution_count": null,
   "metadata": {},
   "outputs": [],
   "source": [
    "adv.head()"
   ]
  },
  {
   "cell_type": "code",
   "execution_count": null,
   "metadata": {},
   "outputs": [],
   "source": []
  },
  {
   "cell_type": "code",
   "execution_count": null,
   "metadata": {},
   "outputs": [],
   "source": [
    "#joinCols = [\"Date\",\"Tm\",\"Opp\"]\n",
    "joinCols = [\"DATE\",\"TEAM\",\"OPPONENT\"]\n",
    "test = pd.merge(basic,adv,how=\"outer\",on=joinCols,suffixes=(\"\",\"_dup\"))\n",
    "print(test.shape)\n",
    "\n",
    "keepCols = [col for col in test.columns if \"_dup\" not in col]\n",
    "test = test[keepCols]\n",
    "print(test.shape)"
   ]
  },
  {
   "cell_type": "code",
   "execution_count": null,
   "metadata": {},
   "outputs": [],
   "source": [
    "test.head()"
   ]
  },
  {
   "cell_type": "code",
   "execution_count": null,
   "metadata": {},
   "outputs": [],
   "source": []
  },
  {
   "cell_type": "code",
   "execution_count": null,
   "metadata": {},
   "outputs": [],
   "source": []
  },
  {
   "cell_type": "code",
   "execution_count": null,
   "metadata": {},
   "outputs": [],
   "source": []
  },
  {
   "cell_type": "code",
   "execution_count": null,
   "metadata": {},
   "outputs": [],
   "source": []
  },
  {
   "cell_type": "code",
   "execution_count": null,
   "metadata": {},
   "outputs": [],
   "source": []
  },
  {
   "cell_type": "code",
   "execution_count": null,
   "metadata": {},
   "outputs": [],
   "source": []
  },
  {
   "cell_type": "code",
   "execution_count": null,
   "metadata": {},
   "outputs": [],
   "source": [
    "|"
   ]
  },
  {
   "cell_type": "code",
   "execution_count": null,
   "metadata": {},
   "outputs": [],
   "source": [
    "year = 1991\n",
    "baseURL = 'https://www.basketball-reference.com'\n",
    "\n",
    "playerURL = '/players/a/abdelal01.html'\n",
    "playerURL = playerURL.strip('.html')\n",
    "\n",
    "basicURL = f'/gamelog/{year}'\n",
    "advancedURL = f'/gamelog-advanced/{year}'\n",
    "playoffURL ="
   ]
  },
  {
   "cell_type": "code",
   "execution_count": null,
   "metadata": {},
   "outputs": [],
   "source": [
    "reg = scrapeRegularSeason(URL,year)\n",
    "playoffs = scrapePlayoffs()\n",
    "df = scrapePlayerCareer(idx,playerURL,yrs)\n",
    "\n",
    "print(reg.shape)\n",
    "print(playoffs.shape)\n",
    "print(df.shape)"
   ]
  },
  {
   "cell_type": "code",
   "execution_count": null,
   "metadata": {},
   "outputs": [],
   "source": []
  },
  {
   "cell_type": "code",
   "execution_count": null,
   "metadata": {},
   "outputs": [],
   "source": []
  }
 ],
 "metadata": {
  "kernelspec": {
   "display_name": "Python 3",
   "language": "python",
   "name": "python3"
  },
  "language_info": {
   "codemirror_mode": {
    "name": "ipython",
    "version": 3
   },
   "file_extension": ".py",
   "mimetype": "text/x-python",
   "name": "python",
   "nbconvert_exporter": "python",
   "pygments_lexer": "ipython3",
   "version": "3.7.3"
  }
 },
 "nbformat": 4,
 "nbformat_minor": 4
}

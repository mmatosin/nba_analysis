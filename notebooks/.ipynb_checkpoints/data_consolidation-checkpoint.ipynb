{
 "cells": [
  {
   "cell_type": "code",
   "execution_count": 1,
   "metadata": {},
   "outputs": [],
   "source": [
    "import os\n",
    "import pandas as pd\n",
    "import numpy as np"
   ]
  },
  {
   "cell_type": "code",
   "execution_count": null,
   "metadata": {},
   "outputs": [],
   "source": []
  },
  {
   "cell_type": "markdown",
   "metadata": {},
   "source": [
    "##### data directories"
   ]
  },
  {
   "cell_type": "code",
   "execution_count": 57,
   "metadata": {},
   "outputs": [],
   "source": [
    "currDir = os.getcwd()\n",
    "rootDir = os.path.abspath(os.path.join(currDir,'..'))\n",
    "\n",
    "dataDir = os.path.abspath(os.path.join(rootDir,'data'))\n",
    "rawDataDir = os.path.abspath(os.path.join(dataDir,'raw'))\n",
    "interimDataDir = os.path.abspath(os.path.join(dataDir,'interim'))\n",
    "finalDataDir = os.path.abspath(os.path.join(dataDir,'final'))\n",
    "errorLog = os.path.abspath(os.path.join(dataDir,'error_log'))"
   ]
  },
  {
   "cell_type": "code",
   "execution_count": null,
   "metadata": {},
   "outputs": [],
   "source": []
  },
  {
   "cell_type": "markdown",
   "metadata": {},
   "source": [
    "#### helper functions"
   ]
  },
  {
   "cell_type": "code",
   "execution_count": 280,
   "metadata": {},
   "outputs": [],
   "source": [
    "def get_margin(data):\n",
    "    \n",
    "    values = [x.strip().split() for x in data]\n",
    "    outcome, margin = [v for v in zip(*values)]\n",
    "    \n",
    "    margin = [int(m[1:-1]) if m[1]=='-' else int(m[2:-1])\n",
    "              for m in margin]\n",
    "    \n",
    "    return outcome, margin"
   ]
  },
  {
   "cell_type": "code",
   "execution_count": 374,
   "metadata": {},
   "outputs": [],
   "source": [
    "def get_seconds_played(data):\n",
    "    \n",
    "    values = [x.split(\":\") if type(x)==str\n",
    "              else [np.nan,np.nan]\n",
    "              for x in data]\n",
    "    converted_values = [(int(mins)*60) + int(secs) if type(mins)==str\n",
    "                        else np.nan\n",
    "                        for mins,secs in values]\n",
    "    \n",
    "    return converted_values  "
   ]
  },
  {
   "cell_type": "code",
   "execution_count": null,
   "metadata": {},
   "outputs": [],
   "source": []
  },
  {
   "cell_type": "code",
   "execution_count": null,
   "metadata": {},
   "outputs": [],
   "source": []
  },
  {
   "cell_type": "code",
   "execution_count": null,
   "metadata": {},
   "outputs": [],
   "source": []
  },
  {
   "cell_type": "code",
   "execution_count": null,
   "metadata": {},
   "outputs": [],
   "source": []
  },
  {
   "cell_type": "markdown",
   "metadata": {},
   "source": [
    "#### read player bio data"
   ]
  },
  {
   "cell_type": "code",
   "execution_count": 3,
   "metadata": {},
   "outputs": [
    {
     "name": "stdout",
     "output_type": "stream",
     "text": [
      "No of distinct players: 4800\n"
     ]
    }
   ],
   "source": [
    "file = f\"{rawDataDir}/all_NBA_ABA_players.csv\"\n",
    "bios = pd.read_csv(file)\n",
    "\n",
    "# keep a list of each player's unique identifier\n",
    "index = bios['index'].values\n",
    "\n",
    "print(\"No of distinct players:\",bios['index'].nunique())"
   ]
  },
  {
   "cell_type": "code",
   "execution_count": null,
   "metadata": {},
   "outputs": [],
   "source": []
  },
  {
   "cell_type": "markdown",
   "metadata": {},
   "source": [
    "##### aggregating scraped player data"
   ]
  },
  {
   "cell_type": "code",
<<<<<<< HEAD
   "execution_count": null,
   "metadata": {},
   "outputs": [],
=======
   "execution_count": 77,
   "metadata": {},
   "outputs": [
    {
     "name": "stderr",
     "output_type": "stream",
     "text": [
      "/Users/Michael/anaconda3/envs/nba_env/lib/python3.6/site-packages/IPython/core/interactiveshell.py:3254: DtypeWarning: Columns (29,36) have mixed types. Specify dtype option on import or set low_memory=False.\n",
      "  if (await self.run_code(code, result,  async_=asy)):\n",
      "/Users/Michael/anaconda3/envs/nba_env/lib/python3.6/site-packages/IPython/core/interactiveshell.py:3254: DtypeWarning: Columns (8,10,11,12,13,14,15,16,17,18,19,20,21,22,23,24,25,26,27,28,29,36) have mixed types. Specify dtype option on import or set low_memory=False.\n",
      "  if (await self.run_code(code, result,  async_=asy)):\n"
     ]
    },
    {
     "name": "stdout",
     "output_type": "stream",
     "text": [
      "No of game logs: 1,585,441\n"
     ]
    }
   ],
>>>>>>> 12f4778e8376081023b07441e86c7d1a17100bfd
   "source": [
    "save = True\n",
    "\n",
    "#combine all files in the directory\n",
    "files = os.listdir(rawDataDir)\n",
    "files.sort()\n",
    "files = files[2:]\n",
    "\n",
<<<<<<< HEAD
    "# concat data and drop duplicates\n",
    "df = pd.concat([pd.read_csv(f\"{rawDataDir}/{f}\") \n",
    "                  for f in files], sort = False)\n",
    "df.drop_duplicates(inplace=True)\n",
    "\n",
    "# handling error in margins for game 7 of 2016 NBA finals\n",
    "replace_dict = {\"RESULT\":{\"W ()\":\"W (+4)\",\n",
    "                          \"L ()\":\"L (-4)\"}}\n",
    "df.replace(replace_dict,inplace=True)\n",
    "\n",
    "# dropping DNPs\n",
    "DNP = ['Did Not Play','Inactive','Did Not Dress'\n",
    "       ,'Not With Team','Player Suspended']\n",
    "df = df[~df['GS'].isin(DNP)]\n",
    "\n",
    "# adding columns\n",
    "df['OUTCOME'], df['MARGIN'] = get_margin(df['RESULT'])\n",
    "df['SP'] = get_margin(df['MP'])\n",
    "\n",
    "# dropping columns\n",
    "dropcols = ['Rk','Unnamed: 31','RESULT']\n",
    "df.drop(dropcols,axis=1,inplace=True)\n",
    "\n",
    "# reset index\n",
    "df.reset_index(drop=True,inplace=True)\n",
    "\n",
    "\n",
    "if save:\n",
    "    df.to_csv(f\"{interimDataDir}/consolidated_game_logs.csv\",index=False)\n",
    "    print(\"df saved\")\n",
    "    \n",
    "print(f\"No of game logs: {df.shape[0]:,}\")"
   ]
  },
  {
   "cell_type": "code",
   "execution_count": null,
   "metadata": {},
   "outputs": [],
   "source": [
    "# No of game logs: 1,391,661"
   ]
  },
  {
   "cell_type": "code",
   "execution_count": null,
   "metadata": {},
   "outputs": [],
   "source": []
  },
  {
   "cell_type": "code",
   "execution_count": null,
   "metadata": {},
   "outputs": [],
   "source": [
    "df.columns"
   ]
  },
  {
   "cell_type": "code",
   "execution_count": null,
   "metadata": {},
   "outputs": [],
   "source": [
    "df.tail().T"
=======
    "df = pd.concat([pd.read_csv(f\"{rawDataDir}/{f}\") \n",
    "                  for f in files], sort = False)\n",
    "df.reset_index(drop=True,inplace=True)\n",
    "df.drop_duplicates(inplace=True)\n",
    "\n",
    "print(f\"No of game logs: {df.shape[0]:,}\")"
>>>>>>> 12f4778e8376081023b07441e86c7d1a17100bfd
   ]
  },
  {
   "cell_type": "code",
   "execution_count": null,
   "metadata": {},
   "outputs": [],
   "source": []
  },
  {
   "cell_type": "markdown",
   "metadata": {},
   "source": [
    "#### rent calcs"
   ]
  },
  {
   "cell_type": "code",
   "execution_count": 82,
   "metadata": {},
   "outputs": [
    {
     "data": {
      "text/plain": [
       "19800"
      ]
     },
     "execution_count": 82,
     "metadata": {},
     "output_type": "execute_result"
    }
   ],
   "source": [
    "# expensive no fee\n",
    "1650*12"
   ]
  },
  {
   "cell_type": "code",
   "execution_count": 81,
   "metadata": {},
   "outputs": [
    {
     "data": {
      "text/plain": [
       "19440"
      ]
     },
     "execution_count": 81,
     "metadata": {},
     "output_type": "execute_result"
    }
   ],
   "source": [
    "# cheap w fee\n",
    "1495*12 + 1500"
   ]
  },
  {
   "cell_type": "code",
   "execution_count": null,
   "metadata": {},
   "outputs": [],
   "source": []
  },
  {
   "cell_type": "code",
   "execution_count": 80,
   "metadata": {},
   "outputs": [
    {
     "data": {
      "text/plain": [
       "(1199, 37)"
      ]
     },
     "execution_count": 80,
     "metadata": {},
     "output_type": "execute_result"
    }
   ],
   "source": [
    "df[df['INDEX']=='corbity01'].shape"
   ]
  },
  {
   "cell_type": "code",
   "execution_count": null,
   "metadata": {},
   "outputs": [],
   "source": []
  },
  {
   "cell_type": "markdown",
   "metadata": {},
   "source": [
    "##### identifying players whose data has not been scraped"
   ]
  },
  {
   "cell_type": "code",
<<<<<<< HEAD
   "execution_count": 89,
   "metadata": {},
   "outputs": [
    {
     "name": "stdout",
     "output_type": "stream",
     "text": [
      "No. of players no scraped: 25\n"
     ]
    }
   ],
   "source": [
    "not_scraped = [x for x in index if x not in df['INDEX'].values]\n",
    "\n",
    "print(\"No. of players no scraped:\",len(not_scraped))"
   ]
  },
  {
   "cell_type": "code",
   "execution_count": 90,
=======
   "execution_count": 21,
>>>>>>> 12f4778e8376081023b07441e86c7d1a17100bfd
   "metadata": {},
   "outputs": [
    {
     "name": "stdout",
     "output_type": "stream",
     "text": [
<<<<<<< HEAD
=======
      "No. of players no scraped: 41\n"
     ]
    }
   ],
   "source": [
    "not_scraped = [x for x in index if x not in df['INDEX'].values]\n",
    "\n",
    "print(\"No. of players no scraped:\",len(not_scraped))"
   ]
  },
  {
   "cell_type": "code",
   "execution_count": 29,
   "metadata": {},
   "outputs": [
    {
     "name": "stdout",
     "output_type": "stream",
     "text": [
>>>>>>> 12f4778e8376081023b07441e86c7d1a17100bfd
      "93\n"
     ]
    }
   ],
   "source": [
    "# players in the error log\n",
    "logger = f\"{errorLog}/log.txt\"\n",
    "\n",
    "with open(logger,\"r\") as logs:\n",
    "    lines = [[x.strip() for x in line.strip().split(',')] \n",
    "             for line in logs]\n",
    "\n",
    "cols = ['index','name','reason']\n",
    "error_df = pd.DataFrame(lines,columns=cols)\n",
    "error_idx = error_df['index'].values\n",
    "\n",
    "print(error_df['index'].nunique())"
   ]
  },
  {
   "cell_type": "code",
<<<<<<< HEAD
   "execution_count": 103,
   "metadata": {},
   "outputs": [],
   "source": [
    "#error_df['index'].unique()"
   ]
  },
  {
   "cell_type": "code",
   "execution_count": 104,
   "metadata": {},
   "outputs": [],
   "source": [
    "#df[df['INDEX']=='tavarwa01'].shape"
   ]
  },
  {
   "cell_type": "code",
=======
>>>>>>> 12f4778e8376081023b07441e86c7d1a17100bfd
   "execution_count": 42,
   "metadata": {},
   "outputs": [
    {
     "name": "stdout",
     "output_type": "stream",
     "text": [
      "127\n"
     ]
    }
   ],
   "source": [
<<<<<<< HEAD
    "'''\n",
=======
>>>>>>> 12f4778e8376081023b07441e86c7d1a17100bfd
    "to_scrape = list(error_idx) + not_scraped\n",
    "to_scrape = [x for x in set(to_scrape)]\n",
    "to_scrape.sort()\n",
    "\n",
<<<<<<< HEAD
    "print(len(to_scrape))\n",
    "'''"
=======
    "print(len(to_scrape))"
   ]
  },
  {
   "cell_type": "code",
   "execution_count": 48,
   "metadata": {},
   "outputs": [],
   "source": [
    "pd.DataFrame(to_scrape,columns=['index']).to_csv(\n",
    "    f\"{interimDataDir}/error_indices.csv\"\n",
    "    ,index=False)"
>>>>>>> 12f4778e8376081023b07441e86c7d1a17100bfd
   ]
  },
  {
   "cell_type": "code",
   "execution_count": 48,
   "metadata": {},
   "outputs": [],
   "source": [
    "'''\n",
    "pd.DataFrame(to_scrape,columns=['index']).to_csv(\n",
    "    f\"{interimDataDir}/error_indices.csv\"\n",
    "    ,index=False)\n",
    "'''"
   ]
  },
  {
   "cell_type": "code",
   "execution_count": null,
   "metadata": {},
   "outputs": [],
   "source": []
  },
  {
   "cell_type": "code",
   "execution_count": 101,
   "metadata": {},
   "outputs": [],
   "source": [
    "#bios[bios['index'].isin(not_scraped)]"
   ]
  },
  {
   "cell_type": "code",
   "execution_count": null,
   "metadata": {},
   "outputs": [],
   "source": []
  }
 ],
 "metadata": {
  "kernelspec": {
   "display_name": "nba_env",
   "language": "python",
   "name": "nba_env"
  },
  "language_info": {
   "codemirror_mode": {
    "name": "ipython",
    "version": 3
   },
   "file_extension": ".py",
   "mimetype": "text/x-python",
   "name": "python",
   "nbconvert_exporter": "python",
   "pygments_lexer": "ipython3",
   "version": "3.6.3"
  }
 },
 "nbformat": 4,
 "nbformat_minor": 4
}

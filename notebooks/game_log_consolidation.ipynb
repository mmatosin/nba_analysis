{
 "cells": [
  {
   "cell_type": "code",
   "execution_count": 1,
   "metadata": {},
   "outputs": [],
   "source": [
    "import os\n",
    "import pandas as pd\n",
    "import numpy as np"
   ]
  },
  {
   "cell_type": "code",
   "execution_count": null,
   "metadata": {},
   "outputs": [],
   "source": []
  },
  {
   "cell_type": "markdown",
   "metadata": {},
   "source": [
    "#### data directories"
   ]
  },
  {
   "cell_type": "code",
   "execution_count": 2,
   "metadata": {},
   "outputs": [],
   "source": [
    "currDir = os.getcwd()\n",
    "rootDir = os.path.abspath(os.path.join(currDir,'..'))\n",
    "\n",
    "dataDir = os.path.abspath(os.path.join(rootDir,'data'))\n",
    "rawDataDir = os.path.abspath(os.path.join(dataDir,'raw'))\n",
    "interimDataDir = os.path.abspath(os.path.join(dataDir,'interim'))\n",
    "finalDataDir = os.path.abspath(os.path.join(dataDir,'final'))"
   ]
  },
  {
   "cell_type": "code",
   "execution_count": null,
   "metadata": {},
   "outputs": [],
   "source": []
  },
  {
   "cell_type": "markdown",
   "metadata": {},
   "source": [
    "#### getting a list of <i>all</i> NBA players"
   ]
  },
  {
   "cell_type": "code",
   "execution_count": 3,
   "metadata": {},
   "outputs": [],
   "source": [
    "import string\n",
    "\n",
    "from requests import get\n",
    "from urllib.request import urlopen\n",
    "from bs4 import BeautifulSoup\n",
    "\n",
    "# https://towardsdatascience.com/web-scraping-nba-stats-4b4f8c525994"
   ]
  },
  {
   "cell_type": "code",
   "execution_count": null,
   "metadata": {},
   "outputs": [],
   "source": []
  },
  {
   "cell_type": "code",
   "execution_count": 29,
   "metadata": {},
   "outputs": [
    {
     "name": "stdout",
     "output_type": "stream",
     "text": [
      "(4800, 9)\n"
     ]
    }
   ],
   "source": [
    "player_dict = {}\n",
    "\n",
    "for letter in string.ascii_lowercase:\n",
    "    \n",
    "    url = f\"https://www.basketball-reference.com/players/{letter}/\"\n",
    "    # print(url)\n",
    "    webpage = urlopen(url)\n",
    "    html = BeautifulSoup(webpage)\n",
    "    \n",
    "    if letter == 'a':\n",
    "        columns = [col.getText() for col in html.findAll('tr', limit=1)[0].findAll('th')]\n",
    "        \n",
    "        \n",
    "    name_rows = html.findAll('th')[len(columns):]\n",
    "    bio_rows = html.findAll('tr')[1:]\n",
    "\n",
    "    names = [name.getText() for name in name_rows]\n",
    "    idx = [str(row).split(\"data-stat=\")[0].split(\"data-append-csv=\")[-1][1:-2].strip() for row in name_rows]\n",
    "    bios  = [[bio.getText() for bio in row.findAll('td')] for row in bio_rows]\n",
    "\n",
    "    assert(len(names) == len(idx))\n",
    "    assert(len(names) == len(bios))\n",
    "    \n",
    "    for key, name, bio in zip(idx,names,bios):\n",
    "        player_dict[key] = [name] + bio\n",
    "    \n",
    "      \n",
    "df = pd.DataFrame.from_dict(player_dict,orient=\"index\").reset_index()\n",
    "df.columns = ['index'] + columns\n",
    "\n",
    "print(df.shape)"
   ]
  },
  {
   "cell_type": "code",
   "execution_count": null,
   "metadata": {},
   "outputs": [],
   "source": []
  },
  {
   "cell_type": "code",
   "execution_count": 30,
   "metadata": {},
   "outputs": [
    {
     "data": {
      "text/html": [
       "<div>\n",
       "<style scoped>\n",
       "    .dataframe tbody tr th:only-of-type {\n",
       "        vertical-align: middle;\n",
       "    }\n",
       "\n",
       "    .dataframe tbody tr th {\n",
       "        vertical-align: top;\n",
       "    }\n",
       "\n",
       "    .dataframe thead th {\n",
       "        text-align: right;\n",
       "    }\n",
       "</style>\n",
       "<table border=\"1\" class=\"dataframe\">\n",
       "  <thead>\n",
       "    <tr style=\"text-align: right;\">\n",
       "      <th></th>\n",
       "      <th>index</th>\n",
       "      <th>Player</th>\n",
       "      <th>From</th>\n",
       "      <th>To</th>\n",
       "      <th>Pos</th>\n",
       "      <th>Ht</th>\n",
       "      <th>Wt</th>\n",
       "      <th>Birth Date</th>\n",
       "      <th>Colleges</th>\n",
       "    </tr>\n",
       "  </thead>\n",
       "  <tbody>\n",
       "    <tr>\n",
       "      <th>4790</th>\n",
       "      <td>zhizhwa01</td>\n",
       "      <td>Wang Zhizhi</td>\n",
       "      <td>2001</td>\n",
       "      <td>2005</td>\n",
       "      <td>C</td>\n",
       "      <td>7-0</td>\n",
       "      <td>255</td>\n",
       "      <td>July 8, 1977</td>\n",
       "      <td></td>\n",
       "    </tr>\n",
       "    <tr>\n",
       "      <th>4791</th>\n",
       "      <td>zidekge01</td>\n",
       "      <td>George Zídek</td>\n",
       "      <td>1996</td>\n",
       "      <td>1998</td>\n",
       "      <td>C</td>\n",
       "      <td>7-0</td>\n",
       "      <td>250</td>\n",
       "      <td>August 2, 1973</td>\n",
       "      <td>UCLA</td>\n",
       "    </tr>\n",
       "    <tr>\n",
       "      <th>4792</th>\n",
       "      <td>zimmede01</td>\n",
       "      <td>Derrick Zimmerman</td>\n",
       "      <td>2006</td>\n",
       "      <td>2006</td>\n",
       "      <td>G</td>\n",
       "      <td>6-3</td>\n",
       "      <td>195</td>\n",
       "      <td>December 2, 1981</td>\n",
       "      <td>Mississippi State</td>\n",
       "    </tr>\n",
       "    <tr>\n",
       "      <th>4793</th>\n",
       "      <td>zimmest01</td>\n",
       "      <td>Stephen Zimmerman</td>\n",
       "      <td>2017</td>\n",
       "      <td>2017</td>\n",
       "      <td>C</td>\n",
       "      <td>7-0</td>\n",
       "      <td>240</td>\n",
       "      <td>September 9, 1996</td>\n",
       "      <td>UNLV</td>\n",
       "    </tr>\n",
       "    <tr>\n",
       "      <th>4794</th>\n",
       "      <td>zipsepa01</td>\n",
       "      <td>Paul Zipser</td>\n",
       "      <td>2017</td>\n",
       "      <td>2018</td>\n",
       "      <td>G-F</td>\n",
       "      <td>6-8</td>\n",
       "      <td>215</td>\n",
       "      <td>February 18, 1994</td>\n",
       "      <td></td>\n",
       "    </tr>\n",
       "    <tr>\n",
       "      <th>4795</th>\n",
       "      <td>zizican01</td>\n",
       "      <td>Ante Žižić</td>\n",
       "      <td>2018</td>\n",
       "      <td>2020</td>\n",
       "      <td>F-C</td>\n",
       "      <td>6-10</td>\n",
       "      <td>254</td>\n",
       "      <td>January 4, 1997</td>\n",
       "      <td></td>\n",
       "    </tr>\n",
       "    <tr>\n",
       "      <th>4796</th>\n",
       "      <td>zoetji01</td>\n",
       "      <td>Jim Zoet</td>\n",
       "      <td>1983</td>\n",
       "      <td>1983</td>\n",
       "      <td>C</td>\n",
       "      <td>7-1</td>\n",
       "      <td>240</td>\n",
       "      <td>December 20, 1953</td>\n",
       "      <td>Kent State University</td>\n",
       "    </tr>\n",
       "    <tr>\n",
       "      <th>4797</th>\n",
       "      <td>zopfbi01</td>\n",
       "      <td>Bill Zopf</td>\n",
       "      <td>1971</td>\n",
       "      <td>1971</td>\n",
       "      <td>G</td>\n",
       "      <td>6-1</td>\n",
       "      <td>170</td>\n",
       "      <td>June 7, 1948</td>\n",
       "      <td>Duquesne</td>\n",
       "    </tr>\n",
       "    <tr>\n",
       "      <th>4798</th>\n",
       "      <td>zubaciv01</td>\n",
       "      <td>Ivica Zubac</td>\n",
       "      <td>2017</td>\n",
       "      <td>2020</td>\n",
       "      <td>C</td>\n",
       "      <td>7-0</td>\n",
       "      <td>240</td>\n",
       "      <td>March 18, 1997</td>\n",
       "      <td></td>\n",
       "    </tr>\n",
       "    <tr>\n",
       "      <th>4799</th>\n",
       "      <td>zunicma01</td>\n",
       "      <td>Matt Zunic</td>\n",
       "      <td>1949</td>\n",
       "      <td>1949</td>\n",
       "      <td>G-F</td>\n",
       "      <td>6-3</td>\n",
       "      <td>195</td>\n",
       "      <td>December 19, 1919</td>\n",
       "      <td>George Washington</td>\n",
       "    </tr>\n",
       "  </tbody>\n",
       "</table>\n",
       "</div>"
      ],
      "text/plain": [
       "          index             Player  From    To  Pos    Ht   Wt  \\\n",
       "4790  zhizhwa01        Wang Zhizhi  2001  2005    C   7-0  255   \n",
       "4791  zidekge01       George Zídek  1996  1998    C   7-0  250   \n",
       "4792  zimmede01  Derrick Zimmerman  2006  2006    G   6-3  195   \n",
       "4793  zimmest01  Stephen Zimmerman  2017  2017    C   7-0  240   \n",
       "4794  zipsepa01        Paul Zipser  2017  2018  G-F   6-8  215   \n",
       "4795  zizican01         Ante Žižić  2018  2020  F-C  6-10  254   \n",
       "4796   zoetji01           Jim Zoet  1983  1983    C   7-1  240   \n",
       "4797   zopfbi01          Bill Zopf  1971  1971    G   6-1  170   \n",
       "4798  zubaciv01        Ivica Zubac  2017  2020    C   7-0  240   \n",
       "4799  zunicma01         Matt Zunic  1949  1949  G-F   6-3  195   \n",
       "\n",
       "             Birth Date               Colleges  \n",
       "4790       July 8, 1977                         \n",
       "4791     August 2, 1973                   UCLA  \n",
       "4792   December 2, 1981      Mississippi State  \n",
       "4793  September 9, 1996                   UNLV  \n",
       "4794  February 18, 1994                         \n",
       "4795    January 4, 1997                         \n",
       "4796  December 20, 1953  Kent State University  \n",
       "4797       June 7, 1948               Duquesne  \n",
       "4798     March 18, 1997                         \n",
       "4799  December 19, 1919      George Washington  "
      ]
     },
     "execution_count": 30,
     "metadata": {},
     "output_type": "execute_result"
    }
   ],
   "source": [
    "df.tail(10)"
   ]
  },
  {
   "cell_type": "code",
   "execution_count": null,
   "metadata": {},
   "outputs": [],
   "source": []
  },
  {
   "cell_type": "code",
   "execution_count": null,
   "metadata": {},
   "outputs": [],
   "source": []
  },
  {
   "cell_type": "code",
   "execution_count": null,
   "metadata": {},
   "outputs": [],
   "source": []
  },
  {
   "cell_type": "code",
   "execution_count": null,
   "metadata": {},
   "outputs": [],
   "source": []
  },
  {
   "cell_type": "code",
   "execution_count": 5,
   "metadata": {},
   "outputs": [
    {
     "ename": "SyntaxError",
     "evalue": "invalid syntax (<ipython-input-5-4b37ef281455>, line 1)",
     "output_type": "error",
     "traceback": [
      "\u001b[0;36m  File \u001b[0;32m\"<ipython-input-5-4b37ef281455>\"\u001b[0;36m, line \u001b[0;32m1\u001b[0m\n\u001b[0;31m    |\u001b[0m\n\u001b[0m    ^\u001b[0m\n\u001b[0;31mSyntaxError\u001b[0m\u001b[0;31m:\u001b[0m invalid syntax\n"
     ]
    }
   ],
   "source": [
    "|"
   ]
  },
  {
   "cell_type": "code",
   "execution_count": null,
   "metadata": {},
   "outputs": [],
   "source": []
  },
  {
   "cell_type": "markdown",
   "metadata": {},
   "source": [
    "#### begin scraping of bball reference"
   ]
  },
  {
   "cell_type": "code",
   "execution_count": null,
   "metadata": {},
   "outputs": [],
   "source": [
    "from basketball_reference_scraper.players import get_stats, get_game_logs"
   ]
  },
  {
   "cell_type": "code",
   "execution_count": null,
   "metadata": {},
   "outputs": [],
   "source": []
  },
  {
   "cell_type": "code",
   "execution_count": null,
   "metadata": {},
   "outputs": [],
   "source": [
    "df = get_game_logs('LeBron James', '1900-01-01', '2020-12-31', playoffs=False)\n",
    "\n",
    "print(df.shape)"
   ]
  },
  {
   "cell_type": "code",
   "execution_count": null,
   "metadata": {},
   "outputs": [],
   "source": []
  },
  {
   "cell_type": "code",
   "execution_count": null,
   "metadata": {},
   "outputs": [],
   "source": [
    "df.tail()"
   ]
  },
  {
   "cell_type": "code",
   "execution_count": null,
   "metadata": {},
   "outputs": [],
   "source": []
  },
  {
   "cell_type": "code",
   "execution_count": null,
   "metadata": {},
   "outputs": [],
   "source": []
  },
  {
   "cell_type": "code",
   "execution_count": null,
   "metadata": {},
   "outputs": [],
   "source": []
  }
 ],
 "metadata": {
  "kernelspec": {
   "display_name": "nba_env",
   "language": "python",
   "name": "nba_env"
  },
  "language_info": {
   "codemirror_mode": {
    "name": "ipython",
    "version": 3
   },
   "file_extension": ".py",
   "mimetype": "text/x-python",
   "name": "python",
   "nbconvert_exporter": "python",
   "pygments_lexer": "ipython3",
   "version": "3.6.3"
  }
 },
 "nbformat": 4,
 "nbformat_minor": 4
}

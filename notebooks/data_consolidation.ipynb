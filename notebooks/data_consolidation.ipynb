{
 "cells": [
  {
   "cell_type": "code",
   "execution_count": 1,
   "metadata": {},
   "outputs": [],
   "source": [
    "import os\n",
    "import pandas as pd\n",
    "import numpy as np"
   ]
  },
  {
   "cell_type": "code",
   "execution_count": null,
   "metadata": {},
   "outputs": [],
   "source": []
  },
  {
   "cell_type": "markdown",
   "metadata": {},
   "source": [
    "##### data directories"
   ]
  },
  {
   "cell_type": "code",
   "execution_count": 57,
   "metadata": {},
   "outputs": [],
   "source": [
    "currDir = os.getcwd()\n",
    "rootDir = os.path.abspath(os.path.join(currDir,'..'))\n",
    "\n",
    "dataDir = os.path.abspath(os.path.join(rootDir,'data'))\n",
    "rawDataDir = os.path.abspath(os.path.join(dataDir,'raw'))\n",
    "interimDataDir = os.path.abspath(os.path.join(dataDir,'interim'))\n",
    "finalDataDir = os.path.abspath(os.path.join(dataDir,'final'))\n",
    "errorLog = os.path.abspath(os.path.join(dataDir,'error_log'))"
   ]
  },
  {
   "cell_type": "code",
   "execution_count": null,
   "metadata": {},
   "outputs": [],
   "source": []
  },
  {
   "cell_type": "markdown",
   "metadata": {},
   "source": [
    "#### read player bio data"
   ]
  },
  {
   "cell_type": "code",
   "execution_count": 3,
   "metadata": {},
   "outputs": [
    {
     "name": "stdout",
     "output_type": "stream",
     "text": [
      "No of distinct players: 4800\n"
     ]
    }
   ],
   "source": [
    "file = f\"{rawDataDir}/all_NBA_ABA_players.csv\"\n",
    "bios = pd.read_csv(file)\n",
    "\n",
    "# keep a list of each player's unique identifier\n",
    "index = bios['index'].values\n",
    "\n",
    "print(\"No of distinct players:\",bios['index'].nunique())"
   ]
  },
  {
   "cell_type": "code",
   "execution_count": null,
   "metadata": {},
   "outputs": [],
   "source": []
  },
  {
   "cell_type": "markdown",
   "metadata": {},
   "source": [
    "##### aggregating scraped player data"
   ]
  },
  {
   "cell_type": "code",
   "execution_count": 83,
   "metadata": {},
   "outputs": [
    {
     "name": "stdout",
     "output_type": "stream",
     "text": [
      "No of game logs: 1,585,441\n"
     ]
    }
   ],
   "source": [
    "#combine all files in the directory\n",
    "files = os.listdir(rawDataDir)\n",
    "files.sort()\n",
    "files = files[2:]\n",
    "\n",
    "df = pd.concat([pd.read_csv(f\"{rawDataDir}/{f}\") \n",
    "                  for f in files], sort = False)\n",
    "df.drop_duplicates(inplace=True)\n",
    "df.reset_index(drop=True,inplace=True)\n",
    "\n",
    "print(f\"No of game logs: {df.shape[0]:,}\")"
   ]
  },
  {
   "cell_type": "code",
   "execution_count": null,
   "metadata": {},
   "outputs": [],
   "source": []
  },
  {
   "cell_type": "code",
   "execution_count": 86,
   "metadata": {},
   "outputs": [
    {
     "data": {
      "text/plain": [
       "(0, 37)"
      ]
     },
     "execution_count": 86,
     "metadata": {},
     "output_type": "execute_result"
    }
   ],
   "source": [
    "df[df['INDEX']=='henrysk01'].shape"
   ]
  },
  {
   "cell_type": "code",
   "execution_count": null,
   "metadata": {},
   "outputs": [],
   "source": []
  },
  {
   "cell_type": "markdown",
   "metadata": {},
   "source": [
    "#### rent calcs"
   ]
  },
  {
   "cell_type": "code",
   "execution_count": 82,
   "metadata": {},
   "outputs": [
    {
     "data": {
      "text/plain": [
       "19800"
      ]
     },
     "execution_count": 82,
     "metadata": {},
     "output_type": "execute_result"
    }
   ],
   "source": [
    "# expensive no fee \n",
    "1650*12"
   ]
  },
  {
   "cell_type": "code",
   "execution_count": 81,
   "metadata": {},
   "outputs": [
    {
     "data": {
      "text/plain": [
       "19440"
      ]
     },
     "execution_count": 81,
     "metadata": {},
     "output_type": "execute_result"
    }
   ],
   "source": [
    "# cheap w fee\n",
    "1495*12 + 1500"
   ]
  },
  {
   "cell_type": "code",
   "execution_count": 87,
   "metadata": {},
   "outputs": [
    {
     "data": {
      "text/plain": [
       "20400"
      ]
     },
     "execution_count": 87,
     "metadata": {},
     "output_type": "execute_result"
    }
   ],
   "source": [
    "# more expensive no fee\n",
    "1700*12"
   ]
  },
  {
   "cell_type": "code",
   "execution_count": null,
   "metadata": {},
   "outputs": [],
   "source": []
  },
  {
   "cell_type": "markdown",
   "metadata": {},
   "source": [
    "##### identifying players whose data has not been scraped"
   ]
  },
  {
   "cell_type": "code",
   "execution_count": 89,
   "metadata": {},
   "outputs": [
    {
     "name": "stdout",
     "output_type": "stream",
     "text": [
      "No. of players no scraped: 25\n"
     ]
    }
   ],
   "source": [
    "not_scraped = [x for x in index if x not in df['INDEX'].values]\n",
    "\n",
    "print(\"No. of players no scraped:\",len(not_scraped))"
   ]
  },
  {
   "cell_type": "code",
   "execution_count": 90,
   "metadata": {},
   "outputs": [
    {
     "name": "stdout",
     "output_type": "stream",
     "text": [
      "93\n"
     ]
    }
   ],
   "source": [
    "# players in the error log\n",
    "logger = f\"{errorLog}/log.txt\"\n",
    "\n",
    "with open(logger,\"r\") as logs:\n",
    "    lines = [[x.strip() for x in line.strip().split(',')] \n",
    "             for line in logs]\n",
    "\n",
    "cols = ['index','name','reason']\n",
    "error_df = pd.DataFrame(lines,columns=cols)\n",
    "error_idx = error_df['index'].values\n",
    "\n",
    "print(error_df['index'].nunique())"
   ]
  },
  {
   "cell_type": "code",
   "execution_count": 97,
   "metadata": {},
   "outputs": [
    {
     "data": {
      "text/plain": [
       "array(['alexacl01', 'anigbik01', 'babbch01', 'bairsca01', 'bambamo01',\n",
       "       'bembrde01', 'buyckdw01', 'cabocbr01', 'casspom01', 'cavanty01',\n",
       "       'chiozch01', 'chrisra01', 'colsobo01', 'corleke01', 'dawsobr01',\n",
       "       'derrima01', 'divindo01', 'diallha01', 'duvaltr01', 'edwarvi01',\n",
       "       'feldeka01', 'frazimi01', 'fredeji01', 'gibsojo01', 'greendo01',\n",
       "       'hamilju01', 'harprma01', 'hillida01', 'inglida01', 'jacksde01',\n",
       "       'jacksfr01', 'jacksje01', 'jamesda01', 'jeffeam01', 'jeffeco01',\n",
       "       'jerregr01', 'johnsal02', 'johnsbr02', 'josepkr01', 'karasse01',\n",
       "       'kaunsa01', 'kellyry01', 'kingda01', 'ledori01', 'leeda03',\n",
       "       'leonaga01', 'loydjo01', 'lucaska01', 'luwawti01', 'lydonty01',\n",
       "       'mcculch01', 'mcgarmi01', 'mekelga01', 'melofa01', 'metuch01',\n",
       "       'millequ01', 'mitrona01', 'mykhasv01', 'napolpa01', 'nolenpa01',\n",
       "       'ohlbrti01', 'papagge01', 'pattoju01', 'paytoga02', 'portemi01',\n",
       "       'poythal01', 'reedda01', 'reedwi02', 'ricegl02', 'richama01',\n",
       "       'shengto01', 'singlch01', 'slatere01', 'stokeja01', 'stonedi01',\n",
       "       'summeda01', 'tavarwa01', 'tayloje03', 'thomais01', 'trentga02',\n",
       "       'varnaja01', 'walkefo01', 'walkebi01', 'walkeho01', 'wallage01',\n",
       "       'princta02', 'waltobi01', 'waynsma01', 'whiteok01', 'whitero03',\n",
       "       'whiteis01', 'whittsh01', 'willire02'], dtype=object)"
      ]
     },
     "execution_count": 97,
     "metadata": {},
     "output_type": "execute_result"
    }
   ],
   "source": [
    "error_df['index'].unique()"
   ]
  },
  {
   "cell_type": "code",
   "execution_count": 99,
   "metadata": {},
   "outputs": [
    {
     "data": {
      "text/plain": [
       "(145, 37)"
      ]
     },
     "execution_count": 99,
     "metadata": {},
     "output_type": "execute_result"
    }
   ],
   "source": [
    "df[df['INDEX']=='metuch01'].shape"
   ]
  },
  {
   "cell_type": "code",
   "execution_count": 42,
   "metadata": {},
   "outputs": [
    {
     "name": "stdout",
     "output_type": "stream",
     "text": [
      "127\n"
     ]
    }
   ],
   "source": [
    "'''\n",
    "to_scrape = list(error_idx) + not_scraped\n",
    "to_scrape = [x for x in set(to_scrape)]\n",
    "to_scrape.sort()\n",
    "\n",
    "print(len(to_scrape))\n",
    "'''"
   ]
  },
  {
   "cell_type": "code",
   "execution_count": 48,
   "metadata": {},
   "outputs": [],
   "source": [
    "'''\n",
    "pd.DataFrame(to_scrape,columns=['index']).to_csv(\n",
    "    f\"{interimDataDir}/error_indices.csv\"\n",
    "    ,index=False)\n",
    "'''"
   ]
  },
  {
   "cell_type": "code",
   "execution_count": 95,
   "metadata": {},
   "outputs": [
    {
     "data": {
      "text/plain": [
       "['anderer01',\n",
       " 'bowmair01',\n",
       " 'brindau01',\n",
       " 'carnebo01',\n",
       " 'colonjo01',\n",
       " 'corleke01',\n",
       " 'dickehe01',\n",
       " 'flemial01',\n",
       " 'henrysk01',\n",
       " 'jacksaa01',\n",
       " 'jentch01',\n",
       " 'johnstr01',\n",
       " 'killuea01',\n",
       " 'kingda01',\n",
       " 'kitchcu01',\n",
       " 'klotzhe01',\n",
       " 'lowerch01',\n",
       " 'mahonmo01',\n",
       " 'napolpa01',\n",
       " 'raikesh01',\n",
       " 'rockge01',\n",
       " 'stockda01',\n",
       " 'widbyro01',\n",
       " 'winklma01',\n",
       " 'yonakri01']"
      ]
     },
     "execution_count": 95,
     "metadata": {},
     "output_type": "execute_result"
    }
   ],
   "source": [
    "not_scraped"
   ]
  },
  {
   "cell_type": "code",
   "execution_count": 94,
   "metadata": {},
   "outputs": [
    {
     "data": {
      "text/html": [
       "<div>\n",
       "<style scoped>\n",
       "    .dataframe tbody tr th:only-of-type {\n",
       "        vertical-align: middle;\n",
       "    }\n",
       "\n",
       "    .dataframe tbody tr th {\n",
       "        vertical-align: top;\n",
       "    }\n",
       "\n",
       "    .dataframe thead th {\n",
       "        text-align: right;\n",
       "    }\n",
       "</style>\n",
       "<table border=\"1\" class=\"dataframe\">\n",
       "  <thead>\n",
       "    <tr style=\"text-align: right;\">\n",
       "      <th></th>\n",
       "      <th>index</th>\n",
       "      <th>Player</th>\n",
       "      <th>From</th>\n",
       "      <th>To</th>\n",
       "      <th>Pos</th>\n",
       "      <th>Ht</th>\n",
       "      <th>Wt</th>\n",
       "      <th>Birth Date</th>\n",
       "      <th>Colleges</th>\n",
       "    </tr>\n",
       "  </thead>\n",
       "  <tbody>\n",
       "    <tr>\n",
       "      <th>89</th>\n",
       "      <td>anderer01</td>\n",
       "      <td>Eric Anderson</td>\n",
       "      <td>1993</td>\n",
       "      <td>1994</td>\n",
       "      <td>F</td>\n",
       "      <td>6-9</td>\n",
       "      <td>220.0</td>\n",
       "      <td>May 26, 1970</td>\n",
       "      <td>Indiana</td>\n",
       "    </tr>\n",
       "    <tr>\n",
       "      <th>429</th>\n",
       "      <td>bowmair01</td>\n",
       "      <td>Ira Bowman</td>\n",
       "      <td>2000</td>\n",
       "      <td>2002</td>\n",
       "      <td>G</td>\n",
       "      <td>6-5</td>\n",
       "      <td>195.0</td>\n",
       "      <td>June 11, 1973</td>\n",
       "      <td>Providence, University of Pennsylvania</td>\n",
       "    </tr>\n",
       "    <tr>\n",
       "      <th>488</th>\n",
       "      <td>brindau01</td>\n",
       "      <td>Aud Brindley</td>\n",
       "      <td>1947</td>\n",
       "      <td>1947</td>\n",
       "      <td>F</td>\n",
       "      <td>6-4</td>\n",
       "      <td>175.0</td>\n",
       "      <td>December 31, 1923</td>\n",
       "      <td>Dartmouth College</td>\n",
       "    </tr>\n",
       "    <tr>\n",
       "      <th>662</th>\n",
       "      <td>carnebo01</td>\n",
       "      <td>Bob Carney</td>\n",
       "      <td>1955</td>\n",
       "      <td>1955</td>\n",
       "      <td>G</td>\n",
       "      <td>6-3</td>\n",
       "      <td>170.0</td>\n",
       "      <td>August 3, 1932</td>\n",
       "      <td>Bradley</td>\n",
       "    </tr>\n",
       "    <tr>\n",
       "      <th>804</th>\n",
       "      <td>colonjo01</td>\n",
       "      <td>Joe Colone</td>\n",
       "      <td>1949</td>\n",
       "      <td>1949</td>\n",
       "      <td>F</td>\n",
       "      <td>6-5</td>\n",
       "      <td>210.0</td>\n",
       "      <td>January 23, 1924</td>\n",
       "      <td>Bloomsburg University of Pennsylvania</td>\n",
       "    </tr>\n",
       "    <tr>\n",
       "      <th>850</th>\n",
       "      <td>corleke01</td>\n",
       "      <td>Ken Corley</td>\n",
       "      <td>1947</td>\n",
       "      <td>1947</td>\n",
       "      <td>C</td>\n",
       "      <td>6-5</td>\n",
       "      <td>210.0</td>\n",
       "      <td>May 10, 1920</td>\n",
       "      <td>Central State College</td>\n",
       "    </tr>\n",
       "    <tr>\n",
       "      <th>1052</th>\n",
       "      <td>dickehe01</td>\n",
       "      <td>Henry Dickerson</td>\n",
       "      <td>1976</td>\n",
       "      <td>1977</td>\n",
       "      <td>G</td>\n",
       "      <td>6-4</td>\n",
       "      <td>190.0</td>\n",
       "      <td>November 27, 1951</td>\n",
       "      <td>University of Charleston</td>\n",
       "    </tr>\n",
       "    <tr>\n",
       "      <th>1325</th>\n",
       "      <td>flemial01</td>\n",
       "      <td>Al Fleming</td>\n",
       "      <td>1978</td>\n",
       "      <td>1978</td>\n",
       "      <td>F</td>\n",
       "      <td>6-7</td>\n",
       "      <td>215.0</td>\n",
       "      <td>April 5, 1954</td>\n",
       "      <td>Arizona</td>\n",
       "    </tr>\n",
       "    <tr>\n",
       "      <th>1826</th>\n",
       "      <td>henrysk01</td>\n",
       "      <td>Skeeter Henry</td>\n",
       "      <td>1994</td>\n",
       "      <td>1994</td>\n",
       "      <td>G</td>\n",
       "      <td>6-7</td>\n",
       "      <td>190.0</td>\n",
       "      <td>December 8, 1967</td>\n",
       "      <td>Midland College, Oklahoma</td>\n",
       "    </tr>\n",
       "    <tr>\n",
       "      <th>2021</th>\n",
       "      <td>jacksaa01</td>\n",
       "      <td>Aaron Jackson</td>\n",
       "      <td>2018</td>\n",
       "      <td>2018</td>\n",
       "      <td>G</td>\n",
       "      <td>6-4</td>\n",
       "      <td>185.0</td>\n",
       "      <td>May 6, 1986</td>\n",
       "      <td>Duquesne</td>\n",
       "    </tr>\n",
       "    <tr>\n",
       "      <th>2095</th>\n",
       "      <td>jentch01</td>\n",
       "      <td>Chris Jent</td>\n",
       "      <td>1994</td>\n",
       "      <td>1997</td>\n",
       "      <td>F</td>\n",
       "      <td>6-7</td>\n",
       "      <td>220.0</td>\n",
       "      <td>January 11, 1970</td>\n",
       "      <td>Ohio State</td>\n",
       "    </tr>\n",
       "    <tr>\n",
       "      <th>2170</th>\n",
       "      <td>johnstr01</td>\n",
       "      <td>Trey Johnson</td>\n",
       "      <td>2009</td>\n",
       "      <td>2012</td>\n",
       "      <td>G</td>\n",
       "      <td>6-5</td>\n",
       "      <td>218.0</td>\n",
       "      <td>August 30, 1984</td>\n",
       "      <td>Alcorn State University, Jackson State University</td>\n",
       "    </tr>\n",
       "    <tr>\n",
       "      <th>2316</th>\n",
       "      <td>killuea01</td>\n",
       "      <td>Earnie Killum</td>\n",
       "      <td>1971</td>\n",
       "      <td>1971</td>\n",
       "      <td>G</td>\n",
       "      <td>6-3</td>\n",
       "      <td>180.0</td>\n",
       "      <td>June 11, 1948</td>\n",
       "      <td>Stetson University</td>\n",
       "    </tr>\n",
       "    <tr>\n",
       "      <th>2326</th>\n",
       "      <td>kingda01</td>\n",
       "      <td>Dan King</td>\n",
       "      <td>1955</td>\n",
       "      <td>1955</td>\n",
       "      <td>F</td>\n",
       "      <td>6-6</td>\n",
       "      <td>220.0</td>\n",
       "      <td>January 7, 1931</td>\n",
       "      <td>Western Kentucky</td>\n",
       "    </tr>\n",
       "    <tr>\n",
       "      <th>2349</th>\n",
       "      <td>kitchcu01</td>\n",
       "      <td>Curtis Kitchen</td>\n",
       "      <td>1987</td>\n",
       "      <td>1987</td>\n",
       "      <td>F</td>\n",
       "      <td>6-9</td>\n",
       "      <td>235.0</td>\n",
       "      <td>January 30, 1964</td>\n",
       "      <td>South Florida</td>\n",
       "    </tr>\n",
       "    <tr>\n",
       "      <th>2356</th>\n",
       "      <td>klotzhe01</td>\n",
       "      <td>Herm Klotz</td>\n",
       "      <td>1948</td>\n",
       "      <td>1948</td>\n",
       "      <td>G</td>\n",
       "      <td>5-7</td>\n",
       "      <td>150.0</td>\n",
       "      <td>October 21, 1921</td>\n",
       "      <td>Villanova</td>\n",
       "    </tr>\n",
       "    <tr>\n",
       "      <th>2591</th>\n",
       "      <td>lowerch01</td>\n",
       "      <td>Charlie Lowery</td>\n",
       "      <td>1972</td>\n",
       "      <td>1972</td>\n",
       "      <td>G</td>\n",
       "      <td>6-3</td>\n",
       "      <td>185.0</td>\n",
       "      <td>November 12, 1949</td>\n",
       "      <td>University of Puget Sound</td>\n",
       "    </tr>\n",
       "    <tr>\n",
       "      <th>2646</th>\n",
       "      <td>mahonmo01</td>\n",
       "      <td>Mo Mahoney</td>\n",
       "      <td>1953</td>\n",
       "      <td>1954</td>\n",
       "      <td>F</td>\n",
       "      <td>6-2</td>\n",
       "      <td>205.0</td>\n",
       "      <td>November 20, 1927</td>\n",
       "      <td>Brown University</td>\n",
       "    </tr>\n",
       "    <tr>\n",
       "      <th>3080</th>\n",
       "      <td>napolpa01</td>\n",
       "      <td>Paul Napolitano</td>\n",
       "      <td>1949</td>\n",
       "      <td>1949</td>\n",
       "      <td>F-G</td>\n",
       "      <td>6-2</td>\n",
       "      <td>185.0</td>\n",
       "      <td>February 3, 1923</td>\n",
       "      <td>San Francisco</td>\n",
       "    </tr>\n",
       "    <tr>\n",
       "      <th>3487</th>\n",
       "      <td>raikesh01</td>\n",
       "      <td>Sherwin Raiken</td>\n",
       "      <td>1953</td>\n",
       "      <td>1953</td>\n",
       "      <td>G</td>\n",
       "      <td>6-2</td>\n",
       "      <td>185.0</td>\n",
       "      <td>October 29, 1928</td>\n",
       "      <td>Villanova</td>\n",
       "    </tr>\n",
       "    <tr>\n",
       "      <th>3648</th>\n",
       "      <td>rockge01</td>\n",
       "      <td>Gene Rock</td>\n",
       "      <td>1948</td>\n",
       "      <td>1948</td>\n",
       "      <td>G</td>\n",
       "      <td>5-9</td>\n",
       "      <td>155.0</td>\n",
       "      <td>November 4, 1921</td>\n",
       "      <td>USC</td>\n",
       "    </tr>\n",
       "    <tr>\n",
       "      <th>4075</th>\n",
       "      <td>stockda01</td>\n",
       "      <td>David Stockton</td>\n",
       "      <td>2015</td>\n",
       "      <td>2018</td>\n",
       "      <td>G</td>\n",
       "      <td>5-11</td>\n",
       "      <td>165.0</td>\n",
       "      <td>June 24, 1991</td>\n",
       "      <td>Gonzaga</td>\n",
       "    </tr>\n",
       "    <tr>\n",
       "      <th>4567</th>\n",
       "      <td>widbyro01</td>\n",
       "      <td>Ron Widby</td>\n",
       "      <td>1968</td>\n",
       "      <td>1968</td>\n",
       "      <td>F</td>\n",
       "      <td>6-4</td>\n",
       "      <td>210.0</td>\n",
       "      <td>March 9, 1945</td>\n",
       "      <td>Tennessee</td>\n",
       "    </tr>\n",
       "    <tr>\n",
       "      <th>4702</th>\n",
       "      <td>winklma01</td>\n",
       "      <td>Marv Winkler</td>\n",
       "      <td>1971</td>\n",
       "      <td>1972</td>\n",
       "      <td>G</td>\n",
       "      <td>6-1</td>\n",
       "      <td>164.0</td>\n",
       "      <td>February 18, 1948</td>\n",
       "      <td>LA-Lafayette</td>\n",
       "    </tr>\n",
       "    <tr>\n",
       "      <th>4767</th>\n",
       "      <td>yonakri01</td>\n",
       "      <td>Rich Yonakor</td>\n",
       "      <td>1982</td>\n",
       "      <td>1982</td>\n",
       "      <td>F</td>\n",
       "      <td>6-9</td>\n",
       "      <td>220.0</td>\n",
       "      <td>October 3, 1958</td>\n",
       "      <td>UNC</td>\n",
       "    </tr>\n",
       "  </tbody>\n",
       "</table>\n",
       "</div>"
      ],
      "text/plain": [
       "          index           Player  From    To  Pos    Ht     Wt  \\\n",
       "89    anderer01    Eric Anderson  1993  1994    F   6-9  220.0   \n",
       "429   bowmair01       Ira Bowman  2000  2002    G   6-5  195.0   \n",
       "488   brindau01     Aud Brindley  1947  1947    F   6-4  175.0   \n",
       "662   carnebo01       Bob Carney  1955  1955    G   6-3  170.0   \n",
       "804   colonjo01       Joe Colone  1949  1949    F   6-5  210.0   \n",
       "850   corleke01       Ken Corley  1947  1947    C   6-5  210.0   \n",
       "1052  dickehe01  Henry Dickerson  1976  1977    G   6-4  190.0   \n",
       "1325  flemial01       Al Fleming  1978  1978    F   6-7  215.0   \n",
       "1826  henrysk01    Skeeter Henry  1994  1994    G   6-7  190.0   \n",
       "2021  jacksaa01    Aaron Jackson  2018  2018    G   6-4  185.0   \n",
       "2095   jentch01       Chris Jent  1994  1997    F   6-7  220.0   \n",
       "2170  johnstr01     Trey Johnson  2009  2012    G   6-5  218.0   \n",
       "2316  killuea01    Earnie Killum  1971  1971    G   6-3  180.0   \n",
       "2326   kingda01         Dan King  1955  1955    F   6-6  220.0   \n",
       "2349  kitchcu01   Curtis Kitchen  1987  1987    F   6-9  235.0   \n",
       "2356  klotzhe01       Herm Klotz  1948  1948    G   5-7  150.0   \n",
       "2591  lowerch01   Charlie Lowery  1972  1972    G   6-3  185.0   \n",
       "2646  mahonmo01       Mo Mahoney  1953  1954    F   6-2  205.0   \n",
       "3080  napolpa01  Paul Napolitano  1949  1949  F-G   6-2  185.0   \n",
       "3487  raikesh01   Sherwin Raiken  1953  1953    G   6-2  185.0   \n",
       "3648   rockge01        Gene Rock  1948  1948    G   5-9  155.0   \n",
       "4075  stockda01   David Stockton  2015  2018    G  5-11  165.0   \n",
       "4567  widbyro01        Ron Widby  1968  1968    F   6-4  210.0   \n",
       "4702  winklma01     Marv Winkler  1971  1972    G   6-1  164.0   \n",
       "4767  yonakri01     Rich Yonakor  1982  1982    F   6-9  220.0   \n",
       "\n",
       "             Birth Date                                           Colleges  \n",
       "89         May 26, 1970                                            Indiana  \n",
       "429       June 11, 1973             Providence, University of Pennsylvania  \n",
       "488   December 31, 1923                                  Dartmouth College  \n",
       "662      August 3, 1932                                            Bradley  \n",
       "804    January 23, 1924              Bloomsburg University of Pennsylvania  \n",
       "850        May 10, 1920                              Central State College  \n",
       "1052  November 27, 1951                           University of Charleston  \n",
       "1325      April 5, 1954                                            Arizona  \n",
       "1826   December 8, 1967                          Midland College, Oklahoma  \n",
       "2021        May 6, 1986                                           Duquesne  \n",
       "2095   January 11, 1970                                         Ohio State  \n",
       "2170    August 30, 1984  Alcorn State University, Jackson State University  \n",
       "2316      June 11, 1948                                 Stetson University  \n",
       "2326    January 7, 1931                                   Western Kentucky  \n",
       "2349   January 30, 1964                                      South Florida  \n",
       "2356   October 21, 1921                                          Villanova  \n",
       "2591  November 12, 1949                          University of Puget Sound  \n",
       "2646  November 20, 1927                                   Brown University  \n",
       "3080   February 3, 1923                                      San Francisco  \n",
       "3487   October 29, 1928                                          Villanova  \n",
       "3648   November 4, 1921                                                USC  \n",
       "4075      June 24, 1991                                            Gonzaga  \n",
       "4567      March 9, 1945                                          Tennessee  \n",
       "4702  February 18, 1948                                       LA-Lafayette  \n",
       "4767    October 3, 1958                                                UNC  "
      ]
     },
     "execution_count": 94,
     "metadata": {},
     "output_type": "execute_result"
    }
   ],
   "source": [
    "bios[bios['index'].isin(not_scraped)]"
   ]
  },
  {
   "cell_type": "code",
   "execution_count": null,
   "metadata": {},
   "outputs": [],
   "source": []
  }
 ],
 "metadata": {
  "kernelspec": {
   "display_name": "nba_env",
   "language": "python",
   "name": "nba_env"
  },
  "language_info": {
   "codemirror_mode": {
    "name": "ipython",
    "version": 3
   },
   "file_extension": ".py",
   "mimetype": "text/x-python",
   "name": "python",
   "nbconvert_exporter": "python",
   "pygments_lexer": "ipython3",
   "version": "3.6.3"
  }
 },
 "nbformat": 4,
 "nbformat_minor": 4
}

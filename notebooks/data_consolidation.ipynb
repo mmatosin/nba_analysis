{
 "cells": [
  {
   "cell_type": "code",
   "execution_count": 1,
   "metadata": {},
   "outputs": [],
   "source": [
    "import os\n",
    "import pandas as pd\n",
    "import numpy as np"
   ]
  },
  {
   "cell_type": "code",
   "execution_count": null,
   "metadata": {},
   "outputs": [],
   "source": []
  },
  {
   "cell_type": "markdown",
   "metadata": {},
   "source": [
    "##### data directories"
   ]
  },
  {
   "cell_type": "code",
   "execution_count": 57,
   "metadata": {},
   "outputs": [],
   "source": [
    "currDir = os.getcwd()\n",
    "rootDir = os.path.abspath(os.path.join(currDir,'..'))\n",
    "\n",
    "dataDir = os.path.abspath(os.path.join(rootDir,'data'))\n",
    "rawDataDir = os.path.abspath(os.path.join(dataDir,'raw'))\n",
    "interimDataDir = os.path.abspath(os.path.join(dataDir,'interim'))\n",
    "finalDataDir = os.path.abspath(os.path.join(dataDir,'final'))\n",
    "errorLog = os.path.abspath(os.path.join(dataDir,'error_log'))"
   ]
  },
  {
   "cell_type": "code",
   "execution_count": null,
   "metadata": {},
   "outputs": [],
   "source": []
  },
  {
   "cell_type": "markdown",
   "metadata": {},
   "source": [
    "#### helper functions"
   ]
  },
  {
   "cell_type": "code",
   "execution_count": 280,
   "metadata": {},
   "outputs": [],
   "source": [
    "def get_margin(data):\n",
    "    \n",
    "    values = [x.strip().split() for x in data]\n",
    "    outcome, margin = [v for v in zip(*values)]\n",
    "    \n",
    "    margin = [int(m[1:-1]) if m[1]=='-' else int(m[2:-1])\n",
    "              for m in margin]\n",
    "    \n",
    "    return outcome, margin"
   ]
  },
  {
   "cell_type": "code",
   "execution_count": 374,
   "metadata": {},
   "outputs": [],
   "source": [
    "def get_seconds_played(data):\n",
    "    \n",
    "    values = [x.split(\":\") if type(x)==str\n",
    "              else [np.nan,np.nan]\n",
    "              for x in data]\n",
    "    converted_values = [(int(mins)*60) + int(secs) if type(mins)==str\n",
    "                        else np.nan\n",
    "                        for mins,secs in values]\n",
    "    \n",
    "    return converted_values  "
   ]
  },
  {
   "cell_type": "code",
   "execution_count": null,
   "metadata": {},
   "outputs": [],
   "source": []
  },
  {
   "cell_type": "code",
   "execution_count": null,
   "metadata": {},
   "outputs": [],
   "source": []
  },
  {
   "cell_type": "markdown",
   "metadata": {},
   "source": [
    "#### read player bio data"
   ]
  },
  {
   "cell_type": "code",
   "execution_count": 3,
   "metadata": {},
   "outputs": [
    {
     "name": "stdout",
     "output_type": "stream",
     "text": [
      "No of distinct players: 4800\n"
     ]
    }
   ],
   "source": [
    "file = f\"{rawDataDir}/all_NBA_ABA_players.csv\"\n",
    "bios = pd.read_csv(file)\n",
    "\n",
    "# keep a list of each player's unique identifier\n",
    "index = bios['index'].values\n",
    "\n",
    "print(\"No of distinct players:\",bios['index'].nunique())"
   ]
  },
  {
   "cell_type": "code",
   "execution_count": null,
   "metadata": {},
   "outputs": [],
   "source": []
  },
  {
   "cell_type": "markdown",
   "metadata": {},
   "source": [
    "##### aggregating scraped player data"
   ]
  },
  {
   "cell_type": "code",
   "execution_count": 392,
   "metadata": {},
   "outputs": [
    {
     "name": "stdout",
     "output_type": "stream",
     "text": [
      "df saved\n",
      "No of game logs: 1,385,152\n"
     ]
    }
   ],
   "source": [
    "save = True\n",
    "\n",
    "#combine all files in the directory\n",
    "files = os.listdir(rawDataDir)\n",
    "files.sort()\n",
    "files = files[2:]\n",
    "\n",
    "# concat data and drop duplicates\n",
    "df = pd.concat([pd.read_csv(f\"{rawDataDir}/{f}\") \n",
    "                  for f in files], sort = False)\n",
    "df.drop_duplicates(inplace=True)\n",
    "\n",
    "# handling error in margins for game 7 of 2016 NBA finals\n",
    "replace_dict = {\"RESULT\":{\"W ()\":\"W (+4)\",\n",
    "                          \"L ()\":\"L (-4)\"}}\n",
    "df.replace(replace_dict,inplace=True)\n",
    "\n",
    "# dropping DNPs\n",
    "DNP = ['Did Not Play','Inactive','Did Not Dress'\n",
    "       ,'Not With Team','Player Suspended']\n",
    "df = df[~df['GS'].isin(DNP)]\n",
    "\n",
    "# adding columns\n",
    "df['OUTCOME'], df['MARGIN'] = get_margin(df['RESULT'])\n",
    "df['SP'] = get_seconds_played(df['MP'])\n",
    "\n",
    "# dropping columns\n",
    "dropcols = ['Rk','Unnamed: 31','RESULT']\n",
    "df.drop(dropcols,axis=1,inplace=True)\n",
    "\n",
    "# sorting values\n",
    "df.sort_values(['INDEX','DATE'],inplace=True)\n",
    "\n",
    "# reset index\n",
    "df.reset_index(drop=True,inplace=True)\n",
    "\n",
    "if save:\n",
    "    df.to_csv(f\"{interimDataDir}/consolidated_game_logs.csv\",index=False)\n",
    "    print(\"df saved\")\n",
    "    \n",
    "print(f\"No of game logs: {df.shape[0]:,}\")"
   ]
  },
  {
   "cell_type": "code",
   "execution_count": 393,
   "metadata": {},
   "outputs": [],
   "source": [
    "# No of game logs: 1,391,661"
   ]
  },
  {
   "cell_type": "code",
   "execution_count": null,
   "metadata": {},
   "outputs": [],
   "source": []
  },
  {
   "cell_type": "code",
   "execution_count": 394,
   "metadata": {},
   "outputs": [
    {
     "data": {
      "text/plain": [
       "Index(['G', 'DATE', 'AGE', 'TEAM', 'HOME/AWAY', 'OPPONENT', 'GS', 'MP', 'FG',\n",
       "       'FGA', 'FG%', '3P', '3PA', '3P%', 'FT', 'FTA', 'FT%', 'ORB', 'DRB',\n",
       "       'TRB', 'AST', 'STL', 'BLK', 'TOV', 'PF', 'PTS', 'GAME_SCORE', 'PLAYOFF',\n",
       "       'LEAGUE', 'SERIES', 'G#', 'INDEX', 'NAME', '+/-', 'OUTCOME', 'MARGIN',\n",
       "       'SP'],\n",
       "      dtype='object')"
      ]
     },
     "execution_count": 394,
     "metadata": {},
     "output_type": "execute_result"
    }
   ],
   "source": [
    "df.columns"
   ]
  },
  {
   "cell_type": "code",
   "execution_count": 395,
   "metadata": {},
   "outputs": [
    {
     "data": {
      "text/html": [
       "<div>\n",
       "<style scoped>\n",
       "    .dataframe tbody tr th:only-of-type {\n",
       "        vertical-align: middle;\n",
       "    }\n",
       "\n",
       "    .dataframe tbody tr th {\n",
       "        vertical-align: top;\n",
       "    }\n",
       "\n",
       "    .dataframe thead th {\n",
       "        text-align: right;\n",
       "    }\n",
       "</style>\n",
       "<table border=\"1\" class=\"dataframe\">\n",
       "  <thead>\n",
       "    <tr style=\"text-align: right;\">\n",
       "      <th></th>\n",
       "      <th>G</th>\n",
       "      <th>DATE</th>\n",
       "      <th>AGE</th>\n",
       "      <th>TEAM</th>\n",
       "      <th>HOME/AWAY</th>\n",
       "      <th>OPPONENT</th>\n",
       "      <th>GS</th>\n",
       "      <th>MP</th>\n",
       "      <th>FG</th>\n",
       "      <th>FGA</th>\n",
       "      <th>...</th>\n",
       "      <th>PLAYOFF</th>\n",
       "      <th>LEAGUE</th>\n",
       "      <th>SERIES</th>\n",
       "      <th>G#</th>\n",
       "      <th>INDEX</th>\n",
       "      <th>NAME</th>\n",
       "      <th>+/-</th>\n",
       "      <th>OUTCOME</th>\n",
       "      <th>MARGIN</th>\n",
       "      <th>SP</th>\n",
       "    </tr>\n",
       "  </thead>\n",
       "  <tbody>\n",
       "    <tr>\n",
       "      <th>0</th>\n",
       "      <td>1.0</td>\n",
       "      <td>1990-11-02</td>\n",
       "      <td>22-131</td>\n",
       "      <td>POR</td>\n",
       "      <td>HOME</td>\n",
       "      <td>HOU</td>\n",
       "      <td>0</td>\n",
       "      <td>5:00</td>\n",
       "      <td>0</td>\n",
       "      <td>1</td>\n",
       "      <td>...</td>\n",
       "      <td>N</td>\n",
       "      <td>NBA</td>\n",
       "      <td>NaN</td>\n",
       "      <td>NaN</td>\n",
       "      <td>abdelal01</td>\n",
       "      <td>Alaa Abdelnaby</td>\n",
       "      <td>NaN</td>\n",
       "      <td>W</td>\n",
       "      <td>1</td>\n",
       "      <td>300.0</td>\n",
       "    </tr>\n",
       "    <tr>\n",
       "      <th>1</th>\n",
       "      <td>2.0</td>\n",
       "      <td>1990-11-06</td>\n",
       "      <td>22-135</td>\n",
       "      <td>POR</td>\n",
       "      <td>AWAY</td>\n",
       "      <td>LAL</td>\n",
       "      <td>0</td>\n",
       "      <td>4:00</td>\n",
       "      <td>0</td>\n",
       "      <td>0</td>\n",
       "      <td>...</td>\n",
       "      <td>N</td>\n",
       "      <td>NBA</td>\n",
       "      <td>NaN</td>\n",
       "      <td>NaN</td>\n",
       "      <td>abdelal01</td>\n",
       "      <td>Alaa Abdelnaby</td>\n",
       "      <td>NaN</td>\n",
       "      <td>W</td>\n",
       "      <td>2</td>\n",
       "      <td>240.0</td>\n",
       "    </tr>\n",
       "    <tr>\n",
       "      <th>2</th>\n",
       "      <td>3.0</td>\n",
       "      <td>1990-11-11</td>\n",
       "      <td>22-140</td>\n",
       "      <td>POR</td>\n",
       "      <td>HOME</td>\n",
       "      <td>LAC</td>\n",
       "      <td>0</td>\n",
       "      <td>8:00</td>\n",
       "      <td>2</td>\n",
       "      <td>4</td>\n",
       "      <td>...</td>\n",
       "      <td>N</td>\n",
       "      <td>NBA</td>\n",
       "      <td>NaN</td>\n",
       "      <td>NaN</td>\n",
       "      <td>abdelal01</td>\n",
       "      <td>Alaa Abdelnaby</td>\n",
       "      <td>NaN</td>\n",
       "      <td>W</td>\n",
       "      <td>31</td>\n",
       "      <td>480.0</td>\n",
       "    </tr>\n",
       "    <tr>\n",
       "      <th>3</th>\n",
       "      <td>4.0</td>\n",
       "      <td>1990-11-13</td>\n",
       "      <td>22-142</td>\n",
       "      <td>POR</td>\n",
       "      <td>HOME</td>\n",
       "      <td>DEN</td>\n",
       "      <td>0</td>\n",
       "      <td>3:00</td>\n",
       "      <td>0</td>\n",
       "      <td>2</td>\n",
       "      <td>...</td>\n",
       "      <td>N</td>\n",
       "      <td>NBA</td>\n",
       "      <td>NaN</td>\n",
       "      <td>NaN</td>\n",
       "      <td>abdelal01</td>\n",
       "      <td>Alaa Abdelnaby</td>\n",
       "      <td>NaN</td>\n",
       "      <td>W</td>\n",
       "      <td>26</td>\n",
       "      <td>180.0</td>\n",
       "    </tr>\n",
       "    <tr>\n",
       "      <th>4</th>\n",
       "      <td>5.0</td>\n",
       "      <td>1990-11-15</td>\n",
       "      <td>22-144</td>\n",
       "      <td>POR</td>\n",
       "      <td>HOME</td>\n",
       "      <td>NYK</td>\n",
       "      <td>0</td>\n",
       "      <td>6:00</td>\n",
       "      <td>0</td>\n",
       "      <td>2</td>\n",
       "      <td>...</td>\n",
       "      <td>N</td>\n",
       "      <td>NBA</td>\n",
       "      <td>NaN</td>\n",
       "      <td>NaN</td>\n",
       "      <td>abdelal01</td>\n",
       "      <td>Alaa Abdelnaby</td>\n",
       "      <td>NaN</td>\n",
       "      <td>W</td>\n",
       "      <td>16</td>\n",
       "      <td>360.0</td>\n",
       "    </tr>\n",
       "  </tbody>\n",
       "</table>\n",
       "<p>5 rows × 37 columns</p>\n",
       "</div>"
      ],
      "text/plain": [
       "     G        DATE     AGE TEAM HOME/AWAY OPPONENT GS    MP FG FGA  ...  \\\n",
       "0  1.0  1990-11-02  22-131  POR      HOME      HOU  0  5:00  0   1  ...   \n",
       "1  2.0  1990-11-06  22-135  POR      AWAY      LAL  0  4:00  0   0  ...   \n",
       "2  3.0  1990-11-11  22-140  POR      HOME      LAC  0  8:00  2   4  ...   \n",
       "3  4.0  1990-11-13  22-142  POR      HOME      DEN  0  3:00  0   2  ...   \n",
       "4  5.0  1990-11-15  22-144  POR      HOME      NYK  0  6:00  0   2  ...   \n",
       "\n",
       "  PLAYOFF LEAGUE SERIES  G#      INDEX            NAME  +/- OUTCOME MARGIN  \\\n",
       "0       N    NBA    NaN NaN  abdelal01  Alaa Abdelnaby  NaN       W      1   \n",
       "1       N    NBA    NaN NaN  abdelal01  Alaa Abdelnaby  NaN       W      2   \n",
       "2       N    NBA    NaN NaN  abdelal01  Alaa Abdelnaby  NaN       W     31   \n",
       "3       N    NBA    NaN NaN  abdelal01  Alaa Abdelnaby  NaN       W     26   \n",
       "4       N    NBA    NaN NaN  abdelal01  Alaa Abdelnaby  NaN       W     16   \n",
       "\n",
       "      SP  \n",
       "0  300.0  \n",
       "1  240.0  \n",
       "2  480.0  \n",
       "3  180.0  \n",
       "4  360.0  \n",
       "\n",
       "[5 rows x 37 columns]"
      ]
     },
     "execution_count": 395,
     "metadata": {},
     "output_type": "execute_result"
    }
   ],
   "source": [
    "df.head()"
   ]
  },
  {
   "cell_type": "code",
   "execution_count": 397,
   "metadata": {},
   "outputs": [
    {
     "data": {
      "text/html": [
       "<div>\n",
       "<style scoped>\n",
       "    .dataframe tbody tr th:only-of-type {\n",
       "        vertical-align: middle;\n",
       "    }\n",
       "\n",
       "    .dataframe tbody tr th {\n",
       "        vertical-align: top;\n",
       "    }\n",
       "\n",
       "    .dataframe thead th {\n",
       "        text-align: right;\n",
       "    }\n",
       "</style>\n",
       "<table border=\"1\" class=\"dataframe\">\n",
       "  <thead>\n",
       "    <tr style=\"text-align: right;\">\n",
       "      <th></th>\n",
       "      <th>G</th>\n",
       "      <th>DATE</th>\n",
       "      <th>AGE</th>\n",
       "      <th>TEAM</th>\n",
       "      <th>HOME/AWAY</th>\n",
       "      <th>OPPONENT</th>\n",
       "      <th>GS</th>\n",
       "      <th>MP</th>\n",
       "      <th>FG</th>\n",
       "      <th>FGA</th>\n",
       "      <th>...</th>\n",
       "      <th>PLAYOFF</th>\n",
       "      <th>LEAGUE</th>\n",
       "      <th>SERIES</th>\n",
       "      <th>G#</th>\n",
       "      <th>INDEX</th>\n",
       "      <th>NAME</th>\n",
       "      <th>+/-</th>\n",
       "      <th>OUTCOME</th>\n",
       "      <th>MARGIN</th>\n",
       "      <th>SP</th>\n",
       "    </tr>\n",
       "  </thead>\n",
       "  <tbody>\n",
       "    <tr>\n",
       "      <th>1385147</th>\n",
       "      <td>52.0</td>\n",
       "      <td>1949-03-09</td>\n",
       "      <td>29-080</td>\n",
       "      <td>WSC</td>\n",
       "      <td>AWAY</td>\n",
       "      <td>NYK</td>\n",
       "      <td>NaN</td>\n",
       "      <td>NaN</td>\n",
       "      <td>1</td>\n",
       "      <td>NaN</td>\n",
       "      <td>...</td>\n",
       "      <td>N</td>\n",
       "      <td>NBA</td>\n",
       "      <td>NaN</td>\n",
       "      <td>NaN</td>\n",
       "      <td>zunicma01</td>\n",
       "      <td>Matt Zunic</td>\n",
       "      <td>NaN</td>\n",
       "      <td>L</td>\n",
       "      <td>-16</td>\n",
       "      <td>NaN</td>\n",
       "    </tr>\n",
       "    <tr>\n",
       "      <th>1385148</th>\n",
       "      <td>53.0</td>\n",
       "      <td>1949-03-12</td>\n",
       "      <td>29-083</td>\n",
       "      <td>WSC</td>\n",
       "      <td>HOME</td>\n",
       "      <td>FTW</td>\n",
       "      <td>NaN</td>\n",
       "      <td>NaN</td>\n",
       "      <td>3</td>\n",
       "      <td>NaN</td>\n",
       "      <td>...</td>\n",
       "      <td>N</td>\n",
       "      <td>NBA</td>\n",
       "      <td>NaN</td>\n",
       "      <td>NaN</td>\n",
       "      <td>zunicma01</td>\n",
       "      <td>Matt Zunic</td>\n",
       "      <td>NaN</td>\n",
       "      <td>W</td>\n",
       "      <td>27</td>\n",
       "      <td>NaN</td>\n",
       "    </tr>\n",
       "    <tr>\n",
       "      <th>1385149</th>\n",
       "      <td>54.0</td>\n",
       "      <td>1949-03-16</td>\n",
       "      <td>29-087</td>\n",
       "      <td>WSC</td>\n",
       "      <td>HOME</td>\n",
       "      <td>MNL</td>\n",
       "      <td>NaN</td>\n",
       "      <td>NaN</td>\n",
       "      <td>3</td>\n",
       "      <td>NaN</td>\n",
       "      <td>...</td>\n",
       "      <td>N</td>\n",
       "      <td>NBA</td>\n",
       "      <td>NaN</td>\n",
       "      <td>NaN</td>\n",
       "      <td>zunicma01</td>\n",
       "      <td>Matt Zunic</td>\n",
       "      <td>NaN</td>\n",
       "      <td>W</td>\n",
       "      <td>13</td>\n",
       "      <td>NaN</td>\n",
       "    </tr>\n",
       "    <tr>\n",
       "      <th>1385150</th>\n",
       "      <td>55.0</td>\n",
       "      <td>1949-03-17</td>\n",
       "      <td>29-088</td>\n",
       "      <td>WSC</td>\n",
       "      <td>AWAY</td>\n",
       "      <td>PHW</td>\n",
       "      <td>NaN</td>\n",
       "      <td>NaN</td>\n",
       "      <td>2</td>\n",
       "      <td>NaN</td>\n",
       "      <td>...</td>\n",
       "      <td>N</td>\n",
       "      <td>NBA</td>\n",
       "      <td>NaN</td>\n",
       "      <td>NaN</td>\n",
       "      <td>zunicma01</td>\n",
       "      <td>Matt Zunic</td>\n",
       "      <td>NaN</td>\n",
       "      <td>L</td>\n",
       "      <td>-3</td>\n",
       "      <td>NaN</td>\n",
       "    </tr>\n",
       "    <tr>\n",
       "      <th>1385151</th>\n",
       "      <td>56.0</td>\n",
       "      <td>1949-03-19</td>\n",
       "      <td>29-090</td>\n",
       "      <td>WSC</td>\n",
       "      <td>HOME</td>\n",
       "      <td>NYK</td>\n",
       "      <td>NaN</td>\n",
       "      <td>NaN</td>\n",
       "      <td>1</td>\n",
       "      <td>NaN</td>\n",
       "      <td>...</td>\n",
       "      <td>N</td>\n",
       "      <td>NBA</td>\n",
       "      <td>NaN</td>\n",
       "      <td>NaN</td>\n",
       "      <td>zunicma01</td>\n",
       "      <td>Matt Zunic</td>\n",
       "      <td>NaN</td>\n",
       "      <td>L</td>\n",
       "      <td>-12</td>\n",
       "      <td>NaN</td>\n",
       "    </tr>\n",
       "  </tbody>\n",
       "</table>\n",
       "<p>5 rows × 37 columns</p>\n",
       "</div>"
      ],
      "text/plain": [
       "            G        DATE     AGE TEAM HOME/AWAY OPPONENT   GS   MP FG  FGA  \\\n",
       "1385147  52.0  1949-03-09  29-080  WSC      AWAY      NYK  NaN  NaN  1  NaN   \n",
       "1385148  53.0  1949-03-12  29-083  WSC      HOME      FTW  NaN  NaN  3  NaN   \n",
       "1385149  54.0  1949-03-16  29-087  WSC      HOME      MNL  NaN  NaN  3  NaN   \n",
       "1385150  55.0  1949-03-17  29-088  WSC      AWAY      PHW  NaN  NaN  2  NaN   \n",
       "1385151  56.0  1949-03-19  29-090  WSC      HOME      NYK  NaN  NaN  1  NaN   \n",
       "\n",
       "         ... PLAYOFF LEAGUE SERIES  G#      INDEX        NAME  +/- OUTCOME  \\\n",
       "1385147  ...       N    NBA    NaN NaN  zunicma01  Matt Zunic  NaN       L   \n",
       "1385148  ...       N    NBA    NaN NaN  zunicma01  Matt Zunic  NaN       W   \n",
       "1385149  ...       N    NBA    NaN NaN  zunicma01  Matt Zunic  NaN       W   \n",
       "1385150  ...       N    NBA    NaN NaN  zunicma01  Matt Zunic  NaN       L   \n",
       "1385151  ...       N    NBA    NaN NaN  zunicma01  Matt Zunic  NaN       L   \n",
       "\n",
       "        MARGIN  SP  \n",
       "1385147    -16 NaN  \n",
       "1385148     27 NaN  \n",
       "1385149     13 NaN  \n",
       "1385150     -3 NaN  \n",
       "1385151    -12 NaN  \n",
       "\n",
       "[5 rows x 37 columns]"
      ]
     },
     "execution_count": 397,
     "metadata": {},
     "output_type": "execute_result"
    }
   ],
   "source": [
    "df.tail()"
   ]
  },
  {
   "cell_type": "code",
   "execution_count": null,
   "metadata": {},
   "outputs": [],
   "source": []
  },
  {
   "cell_type": "markdown",
   "metadata": {},
   "source": [
    "##### identifying players whose data has not been scraped"
   ]
  },
  {
   "cell_type": "code",
   "execution_count": 89,
   "metadata": {},
   "outputs": [
    {
     "name": "stdout",
     "output_type": "stream",
     "text": [
      "No. of players no scraped: 25\n"
     ]
    }
   ],
   "source": [
    "not_scraped = [x for x in index if x not in df['INDEX'].values]\n",
    "\n",
    "print(\"No. of players no scraped:\",len(not_scraped))"
   ]
  },
  {
   "cell_type": "code",
   "execution_count": 90,
   "metadata": {},
   "outputs": [
    {
     "name": "stdout",
     "output_type": "stream",
     "text": [
      "93\n"
     ]
    }
   ],
   "source": [
    "# players in the error log\n",
    "logger = f\"{errorLog}/log.txt\"\n",
    "\n",
    "with open(logger,\"r\") as logs:\n",
    "    lines = [[x.strip() for x in line.strip().split(',')] \n",
    "             for line in logs]\n",
    "\n",
    "cols = ['index','name','reason']\n",
    "error_df = pd.DataFrame(lines,columns=cols)\n",
    "error_idx = error_df['index'].values\n",
    "\n",
    "print(error_df['index'].nunique())"
   ]
  },
  {
   "cell_type": "code",
   "execution_count": 103,
   "metadata": {},
   "outputs": [],
   "source": [
    "#error_df['index'].unique()"
   ]
  },
  {
   "cell_type": "code",
   "execution_count": 104,
   "metadata": {},
   "outputs": [],
   "source": [
    "#df[df['INDEX']=='tavarwa01'].shape"
   ]
  },
  {
   "cell_type": "code",
   "execution_count": 42,
   "metadata": {},
   "outputs": [
    {
     "name": "stdout",
     "output_type": "stream",
     "text": [
      "127\n"
     ]
    }
   ],
   "source": [
    "'''\n",
    "to_scrape = list(error_idx) + not_scraped\n",
    "to_scrape = [x for x in set(to_scrape)]\n",
    "to_scrape.sort()\n",
    "\n",
    "print(len(to_scrape))\n",
    "'''"
   ]
  },
  {
   "cell_type": "code",
   "execution_count": 48,
   "metadata": {},
   "outputs": [],
   "source": [
    "'''\n",
    "pd.DataFrame(to_scrape,columns=['index']).to_csv(\n",
    "    f\"{interimDataDir}/error_indices.csv\"\n",
    "    ,index=False)\n",
    "'''"
   ]
  },
  {
   "cell_type": "code",
   "execution_count": null,
   "metadata": {},
   "outputs": [],
   "source": []
  },
  {
   "cell_type": "code",
   "execution_count": 101,
   "metadata": {},
   "outputs": [],
   "source": [
    "#bios[bios['index'].isin(not_scraped)]"
   ]
  },
  {
   "cell_type": "code",
   "execution_count": null,
   "metadata": {},
   "outputs": [],
   "source": []
  }
 ],
 "metadata": {
  "kernelspec": {
   "display_name": "nba_env",
   "language": "python",
   "name": "nba_env"
  },
  "language_info": {
   "codemirror_mode": {
    "name": "ipython",
    "version": 3
   },
   "file_extension": ".py",
   "mimetype": "text/x-python",
   "name": "python",
   "nbconvert_exporter": "python",
   "pygments_lexer": "ipython3",
   "version": "3.6.3"
  }
 },
 "nbformat": 4,
 "nbformat_minor": 4
}
